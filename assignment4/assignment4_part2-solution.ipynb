{
 "cells": [
  {
   "cell_type": "code",
   "execution_count": 1,
   "metadata": {
    "deletable": false,
    "editable": false,
    "nbgrader": {
     "checksum": "254d33523dfd14ca396aa5a7ee1a1059",
     "grade": false,
     "grade_id": "cell-5d2ee7acf1f1b5e2",
     "locked": true,
     "schema_version": 1,
     "solution": false
    }
   },
   "outputs": [],
   "source": [
    "version = \"v2.2.033020\""
   ]
  },
  {
   "cell_type": "markdown",
   "metadata": {
    "deletable": false,
    "editable": false,
    "nbgrader": {
     "checksum": "64926124f56c4d0f474b5bf96d318d1f",
     "grade": false,
     "grade_id": "cell-7afeb80cc5986dc6",
     "locked": true,
     "schema_version": 1,
     "solution": false
    }
   },
   "source": [
    "# Assignment 4: Mining Sequence Data (Part II)\n",
    "\n",
    "## Edit Distance\n",
    "\n",
    "In Part I of this assignment, we mainly focused on extracting patterns of sequence data. Now let's switch our attention to calculating the similarity/distance between sequences.\n",
    "\n",
    "As described in the lecture, one effective measurement of distance is the Levenshtein Edit Distance, which calculates the smallest number of single-character edits (insertions, deletions, or substitutions) needed to transform one sequence to the other. Let's try this algorithm out in this assignment!"
   ]
  },
  {
   "cell_type": "markdown",
   "metadata": {
    "deletable": false,
    "editable": false,
    "nbgrader": {
     "checksum": "54c8bc0214abcb2629410c21f5acda69",
     "grade": false,
     "grade_id": "cell-429d8714f4862693",
     "locked": true,
     "schema_version": 1,
     "solution": false
    }
   },
   "source": [
    "### Exercise 3. Levenshtein Edit Distance (30 pts)\n",
    "\n",
    "Please complete the `my_edit_distance` function to calculate the Levenshtein edit distance. Your function should \"fill the table\" as described in the lecture and return the filled table as a 2-d matrix. We have performed all necessary initialization.  "
   ]
  },
  {
   "cell_type": "code",
   "execution_count": 2,
   "metadata": {
    "deletable": false,
    "nbgrader": {
     "checksum": "a883009c8e637c766e0e97b42fb7cc8d",
     "grade": false,
     "grade_id": "cell-0afdf246e1529c97",
     "locked": false,
     "schema_version": 1,
     "solution": true
    }
   },
   "outputs": [],
   "source": [
    "def my_edit_distance(string_x, string_y):\n",
    "    # Left-pad a blank character to both strings\n",
    "    string_x = ' ' + string_x\n",
    "    string_y = ' ' + string_y\n",
    "    \n",
    "    # Obtain the length of the padded string\n",
    "    len_x = len(string_x)\n",
    "    len_y = len(string_y)\n",
    "    \n",
    "    # Initializing the distance matrix\n",
    "    dist_mat = [[0] * len_y for i in range(len_x)]  \n",
    "    for i in range(len_x):\n",
    "        dist_mat[i][0] = i\n",
    "    for j in range (len_y):\n",
    "        dist_mat[0][j] = j\n",
    "    \n",
    "    # Calculating the distance matrix row by row.\n",
    "    for j in range(1, len_y):\n",
    "        for i in range(1, len_x):\n",
    "            if string_x[i] == string_y[j]:\n",
    "                subCost = 0\n",
    "            else:\n",
    "                subCost = 1\n",
    "            \n",
    "            dist_mat[i][j] = min(dist_mat[i-1][j]+1, dist_mat[i][j-1]+1, dist_mat[i-1][j-1]+subCost)\n",
    "    return dist_mat"
   ]
  },
  {
   "cell_type": "markdown",
   "metadata": {
    "deletable": false,
    "editable": false,
    "nbgrader": {
     "checksum": "b6be040a4ed1a82ce0cf58230bc05764",
     "grade": false,
     "grade_id": "cell-e2864580d834e5b4",
     "locked": true,
     "schema_version": 1,
     "solution": false
    }
   },
   "source": [
    "With this function, you can obtain the edit distance by visiting the bottom-right element of the table."
   ]
  },
  {
   "cell_type": "code",
   "execution_count": 3,
   "metadata": {},
   "outputs": [
    {
     "name": "stdout",
     "output_type": "stream",
     "text": [
      "edit distance =  5\n"
     ]
    },
    {
     "data": {
      "text/plain": [
       "[[0, 1, 2, 3, 4, 5, 6, 7],\n",
       " [1, 1, 2, 3, 4, 5, 6, 7],\n",
       " [2, 2, 2, 2, 3, 4, 5, 6],\n",
       " [3, 3, 3, 3, 3, 4, 5, 6],\n",
       " [4, 4, 4, 4, 3, 4, 5, 6],\n",
       " [5, 5, 5, 5, 4, 4, 5, 6],\n",
       " [6, 6, 6, 6, 5, 4, 5, 6],\n",
       " [7, 7, 6, 7, 6, 5, 4, 5]]"
      ]
     },
     "execution_count": 3,
     "metadata": {},
     "output_type": "execute_result"
    }
   ],
   "source": [
    "dist_mat = my_edit_distance(\"VINTNER\", \"WRITERS\")\n",
    "print(\"edit distance = \", + dist_mat[-1][-1])\n",
    "dist_mat"
   ]
  },
  {
   "cell_type": "code",
   "execution_count": 4,
   "metadata": {
    "deletable": false,
    "editable": false,
    "nbgrader": {
     "checksum": "bb5012e47d15e1d50c86aeaebd231b8c",
     "grade": true,
     "grade_id": "cell-4b8a4c375159699e",
     "locked": true,
     "points": 30,
     "schema_version": 1,
     "solution": false
    }
   },
   "outputs": [],
   "source": [
    "# This code block test if the `my_edit_distance` is implemented correctly\n",
    "# We hide some tests so passing the displayed assertions does not guarantee full points.\n",
    "\n",
    "assert my_edit_distance(\"VINTNER\", \"WRITERS\") \\\n",
    "    == [[0, 1, 2, 3, 4, 5, 6, 7],\n",
    "        [1, 1, 2, 3, 4, 5, 6, 7],\n",
    "        [2, 2, 2, 2, 3, 4, 5, 6],\n",
    "        [3, 3, 3, 3, 3, 4, 5, 6],\n",
    "        [4, 4, 4, 4, 3, 4, 5, 6],\n",
    "        [5, 5, 5, 5, 4, 4, 5, 6],\n",
    "        [6, 6, 6, 6, 5, 4, 5, 6],\n",
    "        [7, 7, 6, 7, 6, 5, 4, 5]]\n",
    "\n",
    "assert my_edit_distance(\"birthday\", \"Birthdayyy\") \\\n",
    " == [[0, 1, 2, 3, 4, 5, 6, 7, 8, 9, 10],\n",
    "     [1, 1, 2, 3, 4, 5, 6, 7, 8, 9, 10],\n",
    "     [2, 2, 1, 2, 3, 4, 5, 6, 7, 8, 9],\n",
    "     [3, 3, 2, 1, 2, 3, 4, 5, 6, 7, 8],\n",
    "     [4, 4, 3, 2, 1, 2, 3, 4, 5, 6, 7],\n",
    "     [5, 5, 4, 3, 2, 1, 2, 3, 4, 5, 6],\n",
    "     [6, 6, 5, 4, 3, 2, 1, 2, 3, 4, 5],\n",
    "     [7, 7, 6, 5, 4, 3, 2, 1, 2, 3, 4],\n",
    "     [8, 8, 7, 6, 5, 4, 3, 2, 1, 2, 3]]\n"
   ]
  },
  {
   "cell_type": "markdown",
   "metadata": {
    "deletable": false,
    "editable": false,
    "nbgrader": {
     "checksum": "7210ebd23132b265c2e7e7f8f287a5dd",
     "grade": false,
     "grade_id": "cell-9ab11b2a7284ec73",
     "locked": true,
     "schema_version": 1,
     "solution": false
    }
   },
   "source": [
    "In this assignment, we have implemented the edit distance by hand. In reality, however, you can find it in several packages. For example, `nltk` offers the `nltk.edit_distance` API along with several other distance metrics for sequences. You may check out its documentation [here](https://www.nltk.org/_modules/nltk/metrics/distance.html)."
   ]
  }
 ],
 "metadata": {
  "coursera": {
   "schema_names": [
    "mads_data_mining_i_v2_assignment4_part2"
   ]
  },
  "kernelspec": {
   "display_name": "Python 3",
   "language": "python",
   "name": "python3"
  },
  "language_info": {
   "codemirror_mode": {
    "name": "ipython",
    "version": 3
   },
   "file_extension": ".py",
   "mimetype": "text/x-python",
   "name": "python",
   "nbconvert_exporter": "python",
   "pygments_lexer": "ipython3",
   "version": "3.7.3"
  }
 },
 "nbformat": 4,
 "nbformat_minor": 2
}
