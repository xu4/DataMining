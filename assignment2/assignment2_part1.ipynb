{
 "cells": [
  {
   "cell_type": "code",
   "execution_count": null,
   "metadata": {
    "deletable": false,
    "editable": false,
    "nbgrader": {
     "checksum": "bb019560483f21c56fdc72eb9dd74ff1",
     "grade": false,
     "grade_id": "cell-ec90d4c54348e5ec",
     "locked": true,
     "schema_version": 1,
     "solution": false
    }
   },
   "outputs": [],
   "source": [
    "version = \"v2.2.033020\""
   ]
  },
  {
   "cell_type": "markdown",
   "metadata": {
    "deletable": false,
    "editable": false,
    "nbgrader": {
     "checksum": "076499a00c3a23c8edb1b2b9ba5b3420",
     "grade": false,
     "grade_id": "cell-28672608ddd36d9f",
     "locked": true,
     "schema_version": 1,
     "solution": false
    }
   },
   "source": [
    "# Assignment 2: Mining Itemsets (Part I)\n",
    "\n",
    "\n",
    "Starting from this week, you will get your hands wet by playing with real-world data with your freshly learned data mining techniques.  To test your understanding of the concepts, you will be asked to implement some of these techniques by your own, for which you can only call from a restricted set of APIs.  In your own projects, of course, you are encouraged to use as many packages and APIs as you may. \n",
    "\n",
    "For this assignment, we sampled 10 thousand Tweets with two or more food/drink emojis (yes, those colorful tasty ideograms). You will represent this dataset as a collection of itemsets and practice what we learned in class -- mining and evaluating frequent itemsets, and calculating the similarity of itemsets. \n",
    "\n",
    "**Disclaimer**: The data are collected from the real world. As you step into the *wild*, things might not always be nice and clean. Although we, the instructing team, have tried our best effort to filter out Tweets containing poisonous vocabularies and links. It is still possible that you will encouter offensive contents. \n",
    "\n",
    "In this assignment, you will:\n",
    "\n",
    "- Represent the dataset as a collection of itemsets and mine frequent patterns from it.\n",
    "- Get familiar with a set of metrics for measuring the importance of patterns (support, frequency, lift, chi-square, mutual information).\n",
    "- Calculate Jaccard similarity and find the top $k$ similar itemsets to a given itemset.\n",
    "- Understand Apriori and implement a part of the algorithm.\n",
    "\n",
    "Have fun and cheers!🍻"
   ]
  },
  {
   "cell_type": "markdown",
   "metadata": {
    "deletable": false,
    "editable": false,
    "nbgrader": {
     "checksum": "3a9ee033c8b6f6b9e9b5350a003821e3",
     "grade": false,
     "grade_id": "cell-fdd109a29f2f502e",
     "locked": true,
     "schema_version": 1,
     "solution": false
    }
   },
   "source": [
    "Now Part I begins. We will represent the dataset as a collection of itemsets and conduct some descriptive analysis. The purpose is to get you familiar with the data. You do not need to change any of the code blocks, but just execute all of them and examine the output. Please read through the text descriptions and the code blocks carefully. After you are done, feel free to further explore the dataset in your own ways. \n",
    "\n",
    "First, let's import the packages and dependencies that will be used later."
   ]
  },
  {
   "cell_type": "code",
   "execution_count": null,
   "metadata": {
    "deletable": false,
    "editable": false,
    "nbgrader": {
     "checksum": "4088cb1a28f23735a414d021c3bccf2f",
     "grade": false,
     "grade_id": "cell-91f7b56bbe3e6ac5",
     "locked": true,
     "schema_version": 1,
     "solution": false
    }
   },
   "outputs": [],
   "source": [
    "import pandas as pd\n",
    "import numpy as np\n",
    "from sklearn.preprocessing import MultiLabelBinarizer\n",
    "import matplotlib.pyplot as plt\n",
    "import seaborn as sns"
   ]
  },
  {
   "cell_type": "markdown",
   "metadata": {
    "deletable": false,
    "editable": false,
    "nbgrader": {
     "checksum": "b6d4872a3a710d892ba46622047b242e",
     "grade": false,
     "grade_id": "cell-f28f3207bfce92e1",
     "locked": true,
     "schema_version": 1,
     "solution": false
    }
   },
   "source": [
    "## 1. Data Preprocessing\n",
    "\n",
    "Let's start by loading the dataset and preview its first few lines"
   ]
  },
  {
   "cell_type": "code",
   "execution_count": null,
   "metadata": {
    "deletable": false,
    "editable": false,
    "nbgrader": {
     "checksum": "1643670d217c59f34cbd8aa28130a761",
     "grade": false,
     "grade_id": "cell-66774247573ee741",
     "locked": true,
     "schema_version": 1,
     "solution": false
    }
   },
   "outputs": [],
   "source": [
    "tweets_df = pd.read_csv(\"assets/food_drink_emoji_tweets.txt\", sep=\"\\t\", header=None)\n",
    "tweets_df.columns = ['text']\n",
    "tweets_df.head()"
   ]
  },
  {
   "cell_type": "markdown",
   "metadata": {
    "deletable": false,
    "editable": false,
    "nbgrader": {
     "checksum": "7053936990a7da2f990ba84e9540091e",
     "grade": false,
     "grade_id": "cell-7f0670208db979d0",
     "locked": true,
     "schema_version": 1,
     "solution": false
    }
   },
   "source": [
    "You should find that every line of the data is a Tweet. Now let's extract the emojis that appear in each Tweet as an itemset. For this assignment, we are only interested in emojis that are food and drink."
   ]
  },
  {
   "cell_type": "code",
   "execution_count": null,
   "metadata": {
    "deletable": false,
    "editable": false,
    "nbgrader": {
     "checksum": "07e22de251e38e4a12a0ea85890146d3",
     "grade": false,
     "grade_id": "cell-9fc51ead6dddf474",
     "locked": true,
     "schema_version": 1,
     "solution": false
    }
   },
   "outputs": [],
   "source": [
    "emoji_by_category = {\n",
    "    \"food_fruit\": \"🍇🍈🍉🍊🍋🍌🍍🥭🍎🍏🍐🍑🍒🍓🥝🍅🥥\",\n",
    "    \"food_vegetable\": \"🥑🍆🥔🥕🌽🌶🥒🥬🥦🍄🥜🌰\",\n",
    "    \"food_prepared\": \"🍞🥐🥖🥨🥯🥞🧀🍖🍗🥩🥓🍔🍟🍕🌭🥪🌮🌯🥙🥚🍳🥘🍲🥣🥗🍿🧂🥫\",\n",
    "    \"food_asian\": \"🍱🍘🍙🍚🍛🍜🍝🍠🍢🍣🍤🍥🥮🍡🥟🥠🥡\",\n",
    "    \"food_marian\": \"🦀🦞🦐🦑\",\n",
    "    \"food_sweet\": \"🍦🍧🍨🍩🍪🎂🍰🧁🥧🍫🍬🍭🍮🍯\",\n",
    "    \"drink\": \"🍼🥛☕🍵🍶🍾🍷🍸🍹🍺🍻🥂🥃\"\n",
    "}\n",
    "\n",
    "emoji_set = set()\n",
    "for emoji_list in emoji_by_category.values():\n",
    "    emoji_set.update(emoji_list)"
   ]
  },
  {
   "cell_type": "code",
   "execution_count": null,
   "metadata": {
    "deletable": false,
    "editable": false,
    "nbgrader": {
     "checksum": "e2ec6459ea91b2d7289307199fedb6d2",
     "grade": false,
     "grade_id": "cell-f142322e8a5ec759",
     "locked": true,
     "schema_version": 1,
     "solution": false
    }
   },
   "outputs": [],
   "source": [
    "def extract_uniq_emojis(text):\n",
    "    return np.unique([chr for chr in text if chr in emoji_set])\n",
    "\n",
    "tweets_df['emojis'] = tweets_df.text.apply(extract_uniq_emojis)\n",
    "\n",
    "tweets_df.head()"
   ]
  },
  {
   "cell_type": "markdown",
   "metadata": {
    "deletable": false,
    "editable": false,
    "nbgrader": {
     "checksum": "834fe7185efd3dcb0e50a8e4634c19fd",
     "grade": false,
     "grade_id": "cell-ad74cb059e52296f",
     "locked": true,
     "schema_version": 1,
     "solution": false
    }
   },
   "source": [
    "Now all the food/drink emojis in each Tweet are extracted and stored in a set, which we implement as a numpy array that has no duplicated items. The `numpy.unique` function is handy to remove duplicated items in a list.  We are now going to use the `mlxtend` for frequent itemset mining. This package requires that the itemsets be transformed into a matrix before being passed to its APIs, where each row represents an itemset and each column represents an item. Each cell encodes whether an item is in an itemset or not. You should know what this transformation does after doing the first assignment. Here we implement this transformation with the `MultiLabelBinarizer` in scikit-learn."
   ]
  },
  {
   "cell_type": "code",
   "execution_count": null,
   "metadata": {
    "deletable": false,
    "editable": false,
    "nbgrader": {
     "checksum": "8cb64d087c17d5b9eab235db1f5308ca",
     "grade": false,
     "grade_id": "cell-2775d2afe5e8af7a",
     "locked": true,
     "schema_version": 1,
     "solution": false
    }
   },
   "outputs": [],
   "source": [
    "mlb = MultiLabelBinarizer()\n",
    "emoji_matrix = pd.DataFrame(data=mlb.fit_transform(tweets_df.emojis),\n",
    "                            index=tweets_df.index,\n",
    "                            columns=mlb.classes_)\n",
    "emoji_matrix.head()"
   ]
  },
  {
   "cell_type": "markdown",
   "metadata": {
    "deletable": false,
    "editable": false,
    "nbgrader": {
     "checksum": "3b4cd43ad8a42e9380eccca50b56e8c6",
     "grade": false,
     "grade_id": "cell-2e719eb1ccf9a8ff",
     "locked": true,
     "schema_version": 1,
     "solution": false
    }
   },
   "source": [
    "## 2. Summary Statistics\n",
    "\n",
    "Before we jump into analyzing a dataset, it is always wise to take a look at some summary statistics first. \n",
    "\n",
    "Let's examine how many emojis are used in a Tweet. The number of unique emojis used in a Tweet can be easily computed as the sum of each row of the emoji matrix. Let's call it `emoji_length` and plot its distribution."
   ]
  },
  {
   "cell_type": "code",
   "execution_count": null,
   "metadata": {
    "deletable": false,
    "editable": false,
    "nbgrader": {
     "checksum": "e94b9495c33adcd494f84d712e012513",
     "grade": false,
     "grade_id": "cell-6bb8b10e1b39f9b5",
     "locked": true,
     "schema_version": 1,
     "solution": false
    }
   },
   "outputs": [],
   "source": [
    "emoji_length = emoji_matrix.sum(axis=1)\n",
    "emoji_length.head()"
   ]
  },
  {
   "cell_type": "code",
   "execution_count": null,
   "metadata": {
    "deletable": false,
    "editable": false,
    "nbgrader": {
     "checksum": "cd3231de3047908bf0448b997d9d79a7",
     "grade": false,
     "grade_id": "cell-33a1d0c902fbbe49",
     "locked": true,
     "schema_version": 1,
     "solution": false
    }
   },
   "outputs": [],
   "source": [
    "emoji_length_distribution = emoji_length.value_counts()\\\n",
    "    .rename_axis(index=\"emoji_length\").rename(\"freq\").reset_index()\n",
    "emoji_length_distribution.head()"
   ]
  },
  {
   "cell_type": "code",
   "execution_count": null,
   "metadata": {
    "deletable": false,
    "editable": false,
    "nbgrader": {
     "checksum": "db800e42052579b02d4df4c21809b582",
     "grade": false,
     "grade_id": "cell-3fc90826dc966cf1",
     "locked": true,
     "schema_version": 1,
     "solution": false
    }
   },
   "outputs": [],
   "source": [
    "fig, ax = plt.subplots()\n",
    "ax.plot(emoji_length_distribution.emoji_length, \n",
    "        emoji_length_distribution.freq, \n",
    "        \"o\")\n",
    "ax.set_xlabel(\"#emojis in a tweet\")\n",
    "ax.set_ylabel(\"frequency of tweets\")"
   ]
  },
  {
   "cell_type": "markdown",
   "metadata": {
    "deletable": false,
    "editable": false,
    "nbgrader": {
     "checksum": "143b5d396d36ec97a56bd2e0ed8f238a",
     "grade": false,
     "grade_id": "cell-7893051848843870",
     "locked": true,
     "schema_version": 1,
     "solution": false
    }
   },
   "source": [
    "You should see a figure in which the x-axis represents the number of emojis used in a Tweet, and the y-axis represents the number of Tweets that contain that number of emojis. Clearly, we see that most Tweets use only a few (2 or 3) emojis (the dots in the top-left) while a few Tweets use a lot of emojis (the dots in the lower-right). To see the distribution clearly, let's change both the x- and y-axis to log scale."
   ]
  },
  {
   "cell_type": "code",
   "execution_count": null,
   "metadata": {
    "deletable": false,
    "editable": false,
    "nbgrader": {
     "checksum": "e37bcfaf2830d65ce93d642bc1cc56bf",
     "grade": false,
     "grade_id": "cell-1795b7e652a86f00",
     "locked": true,
     "schema_version": 1,
     "solution": false
    }
   },
   "outputs": [],
   "source": [
    "ax.set_xscale(\"log\")\n",
    "ax.set_yscale(\"log\")\n",
    "fig"
   ]
  },
  {
   "cell_type": "markdown",
   "metadata": {
    "deletable": false,
    "editable": false,
    "nbgrader": {
     "checksum": "2bc326331c4f7fa42e5fb91f9e7a555f",
     "grade": false,
     "grade_id": "cell-a9d065bdd2511c66",
     "locked": true,
     "schema_version": 1,
     "solution": false
    }
   },
   "source": [
    "Surprisingly or not, the scatterplot shows a clear trend that is descending linearly. The trend resembles the [power law](https://en.wikipedia.org/wiki/Power_law) distribution, which is commonly observed in large real-world datasets.\n",
    "\n",
    "Next, let's examine the popularity of individual emojis, that is, the counts and the distribution of single items (emojis). The number of Tweets containing a given emoji can be calculated as the sum of the column in the emoji matrix corresponding to that emoji."
   ]
  },
  {
   "cell_type": "code",
   "execution_count": null,
   "metadata": {
    "deletable": false,
    "editable": false,
    "nbgrader": {
     "checksum": "2ffe3a06f6008d95c8cd968a7055a471",
     "grade": false,
     "grade_id": "cell-3e6bb28d6ca44c34",
     "locked": true,
     "schema_version": 1,
     "solution": false
    }
   },
   "outputs": [],
   "source": [
    "emoji_popularity = emoji_matrix.sum(axis=0)\n",
    "emoji_popularity.head()"
   ]
  },
  {
   "cell_type": "markdown",
   "metadata": {
    "deletable": false,
    "editable": false,
    "nbgrader": {
     "checksum": "6c222531ee01b20b6845ca8011fb141a",
     "grade": false,
     "grade_id": "cell-189ac08c7e90f79a",
     "locked": true,
     "schema_version": 1,
     "solution": false
    }
   },
   "source": [
    "### Exercise 1. Find the most popular emojis (5 pts)\n",
    "Please compete the `top_n_emojis` function below, which should return a list of the $n$ most popular emojis based on the `emoji_popularity` DataFrame."
   ]
  },
  {
   "cell_type": "code",
   "execution_count": null,
   "metadata": {
    "deletable": false,
    "nbgrader": {
     "checksum": "22eeab0ed9809de7cfaba64b9a82f4e2",
     "grade": false,
     "grade_id": "cell-df6d9edb6221d3ac",
     "locked": false,
     "schema_version": 1,
     "solution": true
    }
   },
   "outputs": [],
   "source": [
    "def top_n_emojis(n):\n",
    "    # YOUR CODE HERE\n",
    "    raise NotImplementedError()"
   ]
  },
  {
   "cell_type": "code",
   "execution_count": null,
   "metadata": {
    "deletable": false,
    "editable": false,
    "nbgrader": {
     "checksum": "1d11a389ea541b373cb358d4944f0b43",
     "grade": true,
     "grade_id": "cell-af48f86a662544c2",
     "locked": true,
     "points": 5,
     "schema_version": 1,
     "solution": false
    }
   },
   "outputs": [],
   "source": [
    "assert top_n_emojis(2) == ['🍻', '🎂']\n",
    "assert top_n_emojis(5) == ['🍻', '🎂', '🍔', '🍾', '🥂']"
   ]
  },
  {
   "cell_type": "markdown",
   "metadata": {
    "deletable": false,
    "editable": false,
    "nbgrader": {
     "checksum": "099d141c29c5044308c6f663940d1e67",
     "grade": false,
     "grade_id": "cell-0ffb1ebf1d699b62",
     "locked": true,
     "schema_version": 1,
     "solution": false
    }
   },
   "source": [
    "The most popular food/drink emojis turn out to be 🍻 and 🎂. Is it a surprise? Maybe they are popular because they mean beyond just beer and cake, but also \"cheers\" and \"happy birthday\"."
   ]
  }
 ],
 "metadata": {
  "coursera": {
   "schema_names": [
    "mads_data_mining_i_v2_assignment2_part1"
   ]
  },
  "kernelspec": {
   "display_name": "Python 3",
   "language": "python",
   "name": "python3"
  },
  "language_info": {
   "codemirror_mode": {
    "name": "ipython",
    "version": 3
   },
   "file_extension": ".py",
   "mimetype": "text/x-python",
   "name": "python",
   "nbconvert_exporter": "python",
   "pygments_lexer": "ipython3",
   "version": "3.7.3"
  }
 },
 "nbformat": 4,
 "nbformat_minor": 2
}
