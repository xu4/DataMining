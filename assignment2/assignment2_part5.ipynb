{
 "cells": [
  {
   "cell_type": "code",
   "execution_count": null,
   "metadata": {
    "deletable": false,
    "editable": false,
    "nbgrader": {
     "checksum": "df2894cb977a988c019bc1e70a80d43e",
     "grade": false,
     "grade_id": "cell-a31233ea58edf57c",
     "locked": true,
     "schema_version": 1,
     "solution": false
    }
   },
   "outputs": [],
   "source": [
    "version = \"v2.2.033020\""
   ]
  },
  {
   "cell_type": "markdown",
   "metadata": {
    "deletable": false,
    "editable": false,
    "nbgrader": {
     "checksum": "a81e256366e59af12b3dbcd3031bdd96",
     "grade": false,
     "grade_id": "cell-574066fc37b20e5a",
     "locked": true,
     "schema_version": 1,
     "solution": false
    }
   },
   "source": [
    "# Assignment 2: Mining Itemsets (Part V)\n",
    "\n",
    "\n",
    "## Itemset Similarity\n",
    "Recall from Week 1 that pattern and similarity are two basic outputs of data mining. So far, we have been playing with patterns - frequent itemsets and association rules can all be seen as \"patterns\". In the last part, let's work on itemset similarities.\n",
    "\n",
    "### Exercise 6. Jaccard Similarity (20 pts)\n",
    "Jaccard similarity is a simple but powerful measurement of itemset similarity, defined as follows:\n",
    "$$\\text{Jaccard_similarity(A, B)} = \\frac{|A\\cap B|}{|A\\cup B|}$$\n",
    "\n",
    "#### Exercise 6(a) (10 pts)\n",
    "Complete the following function to calculate the Jaccard similarity between two sets, you may assume that at least one of the sets is not empty."
   ]
  },
  {
   "cell_type": "code",
   "execution_count": null,
   "metadata": {
    "deletable": false,
    "nbgrader": {
     "checksum": "84bc87ffc8012696ef0945a875c0b14c",
     "grade": false,
     "grade_id": "cell-0b0adf575adc8978",
     "locked": false,
     "schema_version": 1,
     "solution": true
    }
   },
   "outputs": [],
   "source": [
    "def jaccard_similarity(set_a, set_b):\n",
    "    # YOUR CODE HERE\n",
    "    raise NotImplementedError()"
   ]
  },
  {
   "cell_type": "code",
   "execution_count": null,
   "metadata": {
    "deletable": false,
    "editable": false,
    "nbgrader": {
     "checksum": "b5e636afed098c8ec25e1b215f0d0d15",
     "grade": true,
     "grade_id": "cell-9e152786ac353a99",
     "locked": true,
     "points": 10,
     "schema_version": 1,
     "solution": false
    }
   },
   "outputs": [],
   "source": [
    "# This code block tests whether the `jaccard_similarity` function work as expected.\n",
    "# We hide some tests, so passing all the displayed assertions does not gurantee the bonus points.\n",
    "\n",
    "assert abs(jaccard_similarity(set(['🍇', '🍈', '🍉']), set(['🍊', '🍋', '🍌'])) - 0) < 1e-8\n",
    "assert abs(jaccard_similarity(set(['🍇', '🍈', '🍎']), set(['🍊', '🍋', '🍎'])) - 0.2) < 1e-8\n",
    "assert abs(jaccard_similarity(set(['🍇', '🍒', '🍎']), set(['🍊', '🍒', '🍎'])) - 0.5) < 1e-8\n",
    "assert abs(jaccard_similarity(set(['🍓', '🍒', '🍎']), set(['🍒', '🍎', '🍓'])) - 1) < 1e-8\n"
   ]
  },
  {
   "cell_type": "markdown",
   "metadata": {
    "deletable": false,
    "editable": false,
    "nbgrader": {
     "checksum": "0c061f398f4a8e6e38ae954048e13a4e",
     "grade": false,
     "grade_id": "cell-56654d4c62788e7e",
     "locked": true,
     "schema_version": 1,
     "solution": false
    }
   },
   "source": [
    "#### Exercise 6(b) (10 pts)\n",
    "A few questions to help you better understand the properties of Jaccard similarity:\n",
    "1. What is the range of Jaccard similarity?\n",
    "2. When is the max/min Jaccard similarity achieved?\n",
    "\n",
    "Complete the following function to indicate the minimum and maximum value a Jaccard similarity score can achieve. (5 pts each)."
   ]
  },
  {
   "cell_type": "code",
   "execution_count": null,
   "metadata": {
    "deletable": false,
    "nbgrader": {
     "checksum": "75608f1c95ab7e1c27b06f6cc3715fac",
     "grade": false,
     "grade_id": "cell-6011d49670d5abec",
     "locked": false,
     "schema_version": 1,
     "solution": true
    }
   },
   "outputs": [],
   "source": [
    "# Please change min_value and max_value to your answers\n",
    "\n",
    "min_value = -100\n",
    "max_value = -100\n",
    "\n",
    "# YOUR CODE HERE\n",
    "raise NotImplementedError()"
   ]
  },
  {
   "cell_type": "code",
   "execution_count": null,
   "metadata": {
    "deletable": false,
    "editable": false,
    "nbgrader": {
     "checksum": "506bb8f3fcac84452b81353f1a44aa57",
     "grade": true,
     "grade_id": "cell-ed7b0719031d74b1",
     "locked": true,
     "points": 5,
     "schema_version": 1,
     "solution": false
    }
   },
   "outputs": [],
   "source": [
    "# This code block evaluate if min_value is assigned with the correct value"
   ]
  },
  {
   "cell_type": "code",
   "execution_count": null,
   "metadata": {
    "deletable": false,
    "editable": false,
    "nbgrader": {
     "checksum": "0f908c2f07393ca803c198761ccf6c61",
     "grade": true,
     "grade_id": "cell-d177e6fd17a56e22",
     "locked": true,
     "points": 5,
     "schema_version": 1,
     "solution": false
    }
   },
   "outputs": [],
   "source": [
    "# This code block evaluate if max_value is assigned with the correct value"
   ]
  },
  {
   "cell_type": "markdown",
   "metadata": {
    "deletable": false,
    "editable": false,
    "nbgrader": {
     "checksum": "37dcd161d95b36e10ca43630f26ade3d",
     "grade": false,
     "grade_id": "cell-272edaf5bde7e7f8",
     "locked": true,
     "schema_version": 1,
     "solution": false
    }
   },
   "source": [
    "With the Jaccard similarity calculated, we can now calculate the Jaccard similarity between any given Tweet with all other Tweets and find the Tweets that are most similar in terms of the set of food/drink emojis used. (Not graded.)"
   ]
  },
  {
   "cell_type": "code",
   "execution_count": null,
   "metadata": {
    "deletable": false,
    "editable": false,
    "nbgrader": {
     "checksum": "376994a84dcf262efd74924ba6cd39a3",
     "grade": false,
     "grade_id": "cell-f63ee3c43b44b14b",
     "locked": true,
     "schema_version": 1,
     "solution": false
    }
   },
   "outputs": [],
   "source": [
    "import pandas as pd\n",
    "import numpy as np\n",
    "\n",
    "tweets_df = pd.read_csv(\"assets/food_drink_emoji_tweets.txt\", sep=\"\\t\", header=None)\n",
    "tweets_df.columns = ['text']\n",
    "\n",
    "emoji_list = \"🍇🍈🍉🍊🍋🍌🍍🥭🍎🍏🍐🍑🍒🍓🥝🍅🥥🥑🍆🥔🥕🌽🌶🥒🥬🥦🍄🥜🌰🍞🥐🥖🥨🥯🥞🧀🍖🍗🥩🥓🍔🍟🍕🌭🥪🌮🌯🥙🥚🍳🥘🍲🥣🥗🍿🧂🥫🍱🍘🍙🍚🍛🍜🍝🍠🍢🍣🍤🍥🥮🍡🥟🥠🥡🦀🦞🦐🦑🍦🍧🍨🍩🍪🎂🍰🧁🥧🍫🍬🍭🍮🍯🍼🥛☕🍵🍶🍾🍷🍸🍹🍺🍻🥂🥃\"\n",
    "emoji_set = set(emoji_list)\n",
    "\n",
    "def extract_uniq_emojis(text):\n",
    "    return \n",
    "\n",
    "tweets_df['emojis'] = tweets_df.text.apply(lambda text:np.unique([chr for chr in text if chr in emoji_set]))\n",
    "\n",
    "tweets_df['jaccard'] = tweets_df.emojis.apply(lambda x:jaccard_similarity(set(tweets_df.loc[0].emojis), set(x)))\n",
    "tweets_df.sort_values('jaccard',ascending=False).head(n=10)"
   ]
  },
  {
   "cell_type": "markdown",
   "metadata": {
    "deletable": false,
    "editable": false,
    "nbgrader": {
     "checksum": "8973d873662e89026b5f20980d9f083e",
     "grade": false,
     "grade_id": "cell-cc276e6a5c1116ac",
     "locked": true,
     "schema_version": 1,
     "solution": false
    }
   },
   "source": [
    "**🍾🍾 Congratulations 🎉🎉, you have now finished up all the exercises in this assignment!**"
   ]
  }
 ],
 "metadata": {
  "coursera": {
   "schema_names": [
    "mads_data_mining_i_v2_assignment2_part5"
   ]
  },
  "kernelspec": {
   "display_name": "Python 3",
   "language": "python",
   "name": "python3"
  },
  "language_info": {
   "codemirror_mode": {
    "name": "ipython",
    "version": 3
   },
   "file_extension": ".py",
   "mimetype": "text/x-python",
   "name": "python",
   "nbconvert_exporter": "python",
   "pygments_lexer": "ipython3",
   "version": "3.7.3"
  }
 },
 "nbformat": 4,
 "nbformat_minor": 2
}
