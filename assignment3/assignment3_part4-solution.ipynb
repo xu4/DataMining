{
 "cells": [
  {
   "cell_type": "code",
   "execution_count": null,
   "metadata": {
    "deletable": false,
    "editable": false,
    "nbgrader": {
     "checksum": "bf6143ebbd1e6228bed21c5cf67b7ea4",
     "grade": false,
     "grade_id": "cell-65c0a5e3419ec9e9",
     "locked": true,
     "schema_version": 1,
     "solution": false
    }
   },
   "outputs": [],
   "source": [
    "version = \"v2.2.033020\""
   ]
  },
  {
   "cell_type": "markdown",
   "metadata": {
    "deletable": false,
    "editable": false,
    "nbgrader": {
     "checksum": "ab2000fd4079198d181350b991b32028",
     "grade": false,
     "grade_id": "cell-be22ff85a22f3bad",
     "locked": true,
     "schema_version": 1,
     "solution": false
    }
   },
   "source": [
    "# Assignment 3: Mining Vectors and Matrices (Part IV)\n",
    "\n",
    "## Patterns in Matrix Data\n",
    "In the last part of the assignment, let's explore the patterns in a matrix as a whole instead of in individual vectors. As discussed in class, one type of such patterns are *eigenvectors*, which can be obtained through *Singular Value Decomposition* (SVD):\n",
    "\n",
    "$$X=U\\Sigma V^T.$$\n",
    "\n",
    "$X$ is an $n \\times p$ matrix, $U\\cdot U^T = I$, $V\\cdot V^T = I$, and $\\Sigma$ is an $n\\times p$ diagonal matrix with non-zero singular values.\n",
    "\n",
    "Let's first walk through the example in the lecture."
   ]
  },
  {
   "cell_type": "code",
   "execution_count": 1,
   "metadata": {
    "deletable": false,
    "editable": false,
    "nbgrader": {
     "checksum": "f4c1964f4e7c58797a4a1aa66ca4bf97",
     "grade": false,
     "grade_id": "cell-e1ca86ccbbdd8194",
     "locked": true,
     "schema_version": 1,
     "solution": false
    }
   },
   "outputs": [],
   "source": [
    "import pandas as pd\n",
    "import numpy as np\n",
    "from sklearn.decomposition import TruncatedSVD\n",
    "\n",
    "np.set_printoptions(precision=6)\n",
    "np.set_printoptions(suppress=True)"
   ]
  },
  {
   "cell_type": "code",
   "execution_count": 2,
   "metadata": {
    "deletable": false,
    "editable": false,
    "nbgrader": {
     "checksum": "6c876b3052cd2a3aff3c9f53353640a9",
     "grade": false,
     "grade_id": "cell-741d659c7dcd642b",
     "locked": true,
     "schema_version": 1,
     "solution": false
    }
   },
   "outputs": [
    {
     "data": {
      "text/html": [
       "<div>\n",
       "<style scoped>\n",
       "    .dataframe tbody tr th:only-of-type {\n",
       "        vertical-align: middle;\n",
       "    }\n",
       "\n",
       "    .dataframe tbody tr th {\n",
       "        vertical-align: top;\n",
       "    }\n",
       "\n",
       "    .dataframe thead th {\n",
       "        text-align: right;\n",
       "    }\n",
       "</style>\n",
       "<table border=\"1\" class=\"dataframe\">\n",
       "  <thead>\n",
       "    <tr style=\"text-align: right;\">\n",
       "      <th></th>\n",
       "      <th>data</th>\n",
       "      <th>information</th>\n",
       "      <th>retrieval</th>\n",
       "      <th>brain</th>\n",
       "      <th>lung</th>\n",
       "    </tr>\n",
       "  </thead>\n",
       "  <tbody>\n",
       "    <tr>\n",
       "      <th>Data Science 1</th>\n",
       "      <td>1</td>\n",
       "      <td>1</td>\n",
       "      <td>1</td>\n",
       "      <td>0</td>\n",
       "      <td>0</td>\n",
       "    </tr>\n",
       "    <tr>\n",
       "      <th>Data Science 2</th>\n",
       "      <td>2</td>\n",
       "      <td>2</td>\n",
       "      <td>2</td>\n",
       "      <td>0</td>\n",
       "      <td>0</td>\n",
       "    </tr>\n",
       "    <tr>\n",
       "      <th>Data Science 3,</th>\n",
       "      <td>1</td>\n",
       "      <td>1</td>\n",
       "      <td>1</td>\n",
       "      <td>0</td>\n",
       "      <td>0</td>\n",
       "    </tr>\n",
       "    <tr>\n",
       "      <th>Data Science 4</th>\n",
       "      <td>5</td>\n",
       "      <td>5</td>\n",
       "      <td>5</td>\n",
       "      <td>0</td>\n",
       "      <td>0</td>\n",
       "    </tr>\n",
       "    <tr>\n",
       "      <th>Medical Report 1</th>\n",
       "      <td>0</td>\n",
       "      <td>0</td>\n",
       "      <td>0</td>\n",
       "      <td>2</td>\n",
       "      <td>2</td>\n",
       "    </tr>\n",
       "    <tr>\n",
       "      <th>Medical Report 1</th>\n",
       "      <td>0</td>\n",
       "      <td>0</td>\n",
       "      <td>0</td>\n",
       "      <td>3</td>\n",
       "      <td>3</td>\n",
       "    </tr>\n",
       "    <tr>\n",
       "      <th>Medical Report 1</th>\n",
       "      <td>0</td>\n",
       "      <td>0</td>\n",
       "      <td>0</td>\n",
       "      <td>1</td>\n",
       "      <td>1</td>\n",
       "    </tr>\n",
       "  </tbody>\n",
       "</table>\n",
       "</div>"
      ],
      "text/plain": [
       "                  data  information  retrieval  brain  lung\n",
       "Data Science 1       1            1          1      0     0\n",
       "Data Science 2       2            2          2      0     0\n",
       "Data Science 3,      1            1          1      0     0\n",
       "Data Science 4       5            5          5      0     0\n",
       "Medical Report 1     0            0          0      2     2\n",
       "Medical Report 1     0            0          0      3     3\n",
       "Medical Report 1     0            0          0      1     1"
      ]
     },
     "execution_count": 2,
     "metadata": {},
     "output_type": "execute_result"
    }
   ],
   "source": [
    "doc_word_df = pd.DataFrame([[1, 1, 1, 0, 0], \n",
    "                            [2, 2, 2, 0, 0],\n",
    "                            [1, 1, 1, 0, 0],\n",
    "                            [5, 5, 5, 0, 0],\n",
    "                            [0, 0, 0, 2, 2],\n",
    "                            [0, 0, 0, 3, 3],\n",
    "                            [0, 0, 0, 1, 1]])\n",
    "doc_word_df.columns = ['data', 'information', 'retrieval', 'brain', 'lung']\n",
    "doc_word_df.index = ['Data Science 1', 'Data Science 2', 'Data Science 3, ', 'Data Science 4', \n",
    "                     'Medical Report 1', 'Medical Report 1', 'Medical Report 1']\n",
    "doc_word_df"
   ]
  },
  {
   "cell_type": "markdown",
   "metadata": {
    "deletable": false,
    "editable": false,
    "nbgrader": {
     "checksum": "6eeba751ace84f4b2d09015183038c51",
     "grade": false,
     "grade_id": "cell-05a45f0079169555",
     "locked": true,
     "schema_version": 1,
     "solution": false
    }
   },
   "source": [
    "Several Python packages, such as NumPy, SciPy, and scikit-learn, all provide APIs for SVD. In this assignment, we will use `TruncatedSVD` API from scikit-learn, as it allows us to compute only the largest $k$ singular values in $\\Sigma$ and the corresponding $k$ columns (rows) of $U$ ($V^T$), which is more efficient and practical in real-world applications. You can learn more about the API from its [documentation](https://scikit-learn.org/stable/modules/generated/sklearn.decomposition.TruncatedSVD.html).\n",
    "\n",
    "For this example, we explicitly specify $k=2$ (so we are only interested in the first 2 components), and we assign a constant to `random_state` to ensure that the result is reproducible. "
   ]
  },
  {
   "cell_type": "code",
   "execution_count": 3,
   "metadata": {
    "deletable": false,
    "editable": false,
    "nbgrader": {
     "checksum": "7c76baa584726ae3e1510abf59ca0923",
     "grade": false,
     "grade_id": "cell-db637380fb3bea49",
     "locked": true,
     "schema_version": 1,
     "solution": false
    }
   },
   "outputs": [
    {
     "data": {
      "text/plain": [
       "TruncatedSVD(algorithm='randomized', n_components=2, n_iter=5, random_state=0,\n",
       "             tol=0.0)"
      ]
     },
     "execution_count": 3,
     "metadata": {},
     "output_type": "execute_result"
    }
   ],
   "source": [
    "doc_word_svd = TruncatedSVD(n_components=2, random_state=0)\n",
    "doc_word_svd.fit(doc_word_df)"
   ]
  },
  {
   "cell_type": "markdown",
   "metadata": {
    "deletable": false,
    "editable": false,
    "nbgrader": {
     "checksum": "82f77a958a090482f54f4864e8386e93",
     "grade": false,
     "grade_id": "cell-5a3fffdd5b8bb588",
     "locked": true,
     "schema_version": 1,
     "solution": false
    }
   },
   "source": [
    "Now the object `doc_word_svd` stores all the necessary results of the decomposed matrix. You can view the singular values (the diagonal values in $\\Sigma$) in the `singular_values_` attribute and the row vectors of $V^T$ in the `components_` attribute."
   ]
  },
  {
   "cell_type": "code",
   "execution_count": 4,
   "metadata": {
    "deletable": false,
    "editable": false,
    "nbgrader": {
     "checksum": "56a3701e9175e2580d01018599d3b561",
     "grade": false,
     "grade_id": "cell-8f3247e8d20d738f",
     "locked": true,
     "schema_version": 1,
     "solution": false
    }
   },
   "outputs": [
    {
     "name": "stdout",
     "output_type": "stream",
     "text": [
      "[9.643651 5.291503]\n",
      "[[ 0.57735   0.57735   0.57735   0.        0.      ]\n",
      " [ 0.       -0.       -0.        0.707107  0.707107]]\n"
     ]
    }
   ],
   "source": [
    "sigma_diag = doc_word_svd.singular_values_\n",
    "v_t = doc_word_svd.components_\n",
    "print(sigma_diag)\n",
    "print(v_t)"
   ]
  },
  {
   "cell_type": "markdown",
   "metadata": {
    "deletable": false,
    "editable": false,
    "nbgrader": {
     "checksum": "a6252ed9fa6e2468829054fd7ee435b9",
     "grade": false,
     "grade_id": "cell-a28b706e7f031849",
     "locked": true,
     "schema_version": 1,
     "solution": false
    }
   },
   "source": [
    "You may wonder where the $U$ matrix is. Although $U$ is not explicitly stored in the `TruncatedSVD` object. it can be recovered with $X$, $\\Sigma$, and $V$, based on the following formula:\n",
    "\n",
    "$$ X^* = U\\Sigma = XV.$$\n",
    "\n",
    "Thus, $U$ can be written as\n",
    "\n",
    "$$ U = X^* \\Sigma^{-1} = XV\\Sigma^{-1}. $$\n",
    "\n",
    "We can verify this with the following code:"
   ]
  },
  {
   "cell_type": "code",
   "execution_count": 5,
   "metadata": {
    "deletable": false,
    "editable": false,
    "nbgrader": {
     "checksum": "75387b5e1359197395d51493150eb980",
     "grade": false,
     "grade_id": "cell-ad45e32cce1a7a61",
     "locked": true,
     "schema_version": 1,
     "solution": false
    }
   },
   "outputs": [
    {
     "name": "stdout",
     "output_type": "stream",
     "text": [
      "[[0.179605 0.      ]\n",
      " [0.359211 0.      ]\n",
      " [0.179605 0.      ]\n",
      " [0.898027 0.      ]\n",
      " [0.       0.534522]\n",
      " [0.       0.801784]\n",
      " [0.       0.267261]]\n"
     ]
    }
   ],
   "source": [
    "x = doc_word_df.values\n",
    "v = v_t.T\n",
    "sigma_inverse = np.linalg.inv(np.diag(sigma_diag))\n",
    "\n",
    "u = x.dot(v).dot(sigma_inverse)\n",
    "print(u)"
   ]
  },
  {
   "cell_type": "markdown",
   "metadata": {
    "deletable": false,
    "editable": false,
    "nbgrader": {
     "checksum": "8547fec2493409a898f0ff016481b9b4",
     "grade": false,
     "grade_id": "cell-94737da88ec726fd",
     "locked": true,
     "schema_version": 1,
     "solution": false
    }
   },
   "source": [
    "Now let's try to interpret $U$, $\\Sigma$, and $V^T$ by thinking about the following questions (not graded):\n",
    "\n",
    "* Which codes the Data Science / Medical concept of each document?\n",
    "* Which codes the strength of each concept?\n",
    "* Which codes the word representation of each concept?\n",
    "\n",
    "One important application of SVD is to transform the original matrix $X$ in to a new matrix $X^*$. This transformation projects the $p$-dimensional row vectors in the original matrix into $k$-dimensional vectors in the new vector space. $X^*$ encodes most of the information in the original $X$ matrix with fewer dimensions.\n",
    "\n",
    "Mathamatically, the transformation is made by post-multiplying $X$ with the $V$ matrix ($ X^* = XV$). The `TruncatedSVD` API has implemented such transformation as a `transform` function. You may verify this with the following code:"
   ]
  },
  {
   "cell_type": "code",
   "execution_count": 9,
   "metadata": {
    "deletable": false,
    "editable": false,
    "nbgrader": {
     "checksum": "288cbb35608b6ea066328d0d18c2a48e",
     "grade": false,
     "grade_id": "cell-ae3456e607ee5fe5",
     "locked": true,
     "schema_version": 1,
     "solution": false
    }
   },
   "outputs": [
    {
     "name": "stdout",
     "output_type": "stream",
     "text": [
      "[[1.732051 0.      ]\n",
      " [3.464102 0.      ]\n",
      " [1.732051 0.      ]\n",
      " [8.660254 0.      ]\n",
      " [0.       2.828427]\n",
      " [0.       4.242641]\n",
      " [0.       1.414214]]\n"
     ]
    }
   ],
   "source": [
    "print(doc_word_svd.transform(doc_word_df))"
   ]
  },
  {
   "cell_type": "code",
   "execution_count": 10,
   "metadata": {
    "deletable": false,
    "editable": false,
    "nbgrader": {
     "checksum": "f47fa8f3eff2ebfce36267ee23f7fb2c",
     "grade": false,
     "grade_id": "cell-217cb78e9de07feb",
     "locked": true,
     "schema_version": 1,
     "solution": false
    }
   },
   "outputs": [
    {
     "name": "stdout",
     "output_type": "stream",
     "text": [
      "[[1.732051 0.      ]\n",
      " [3.464102 0.      ]\n",
      " [1.732051 0.      ]\n",
      " [8.660254 0.      ]\n",
      " [0.       2.828427]\n",
      " [0.       4.242641]\n",
      " [0.       1.414214]]\n"
     ]
    }
   ],
   "source": [
    "print(doc_word_df.values.dot(v))"
   ]
  },
  {
   "cell_type": "markdown",
   "metadata": {
    "deletable": false,
    "editable": false,
    "nbgrader": {
     "checksum": "9bdad0bd106fd1c4695d08b3b36745e1",
     "grade": false,
     "grade_id": "cell-27e1b590ce7af767",
     "locked": true,
     "schema_version": 1,
     "solution": false
    }
   },
   "source": [
    "Now that you are familiar with the SVD operations. Let's apply it to the Montréal restaurant dataset. Run the following code block to load the dataset prepared in Part I of this assignment."
   ]
  },
  {
   "cell_type": "code",
   "execution_count": 11,
   "metadata": {
    "deletable": false,
    "editable": false,
    "nbgrader": {
     "checksum": "a3499ff26f9cd4d3863c72c2e6aa3c2b",
     "grade": false,
     "grade_id": "cell-323aeeb09c68c407",
     "locked": true,
     "schema_version": 1,
     "solution": false
    }
   },
   "outputs": [],
   "source": [
    "business_df = pd.read_csv('assets/montreal_business.csv')\n",
    "business_df.set_index('business_id', inplace=True)\n",
    "\n",
    "review_df = pd.read_csv('assets/montreal_user.csv')\n",
    "rating_df = review_df.pivot_table(index=['business_id'], columns=['user_id'], values='stars')\n",
    "rating_df.fillna(0, inplace=True)\n",
    "\n",
    "missing_business_id = set(business_df.index) - set(rating_df.index)\n",
    "business_df.drop(missing_business_id, inplace=True)"
   ]
  },
  {
   "cell_type": "markdown",
   "metadata": {
    "deletable": false,
    "editable": false,
    "nbgrader": {
     "checksum": "de6ddace7617090491aacf7633f3f4b3",
     "grade": false,
     "grade_id": "cell-93b44c3cbc376427",
     "locked": true,
     "schema_version": 1,
     "solution": false
    }
   },
   "source": [
    "### Exercise 5. (15 pts.)\n",
    "Complete the following `transformed_rating` function, which transforms the original $n\\times p$ rating matrix into a new $n \\times k$ matrix using the `TruncatedSVD` API. The function should return the $n \\times k$ matrix.\n",
    "\n",
    "**Note:**\n",
    "1. Please set the `random_state` to 0 so that the results do not change over different runs.\n",
    "2. $k$ can take values between 1 and $p$, not necessarily the 2 used in the document-word matrix example.\n",
    "3. You may either use the `transformation` function in the `TruncatedSVD` object or use the dot product. Both are OK."
   ]
  },
  {
   "cell_type": "code",
   "execution_count": 12,
   "metadata": {
    "deletable": false,
    "nbgrader": {
     "checksum": "441b40e3dd37073bd19d0aad0af80716",
     "grade": false,
     "grade_id": "cell-6da0da7f356ffe5d",
     "locked": false,
     "schema_version": 1,
     "solution": true
    }
   },
   "outputs": [],
   "source": [
    "def svd_transformed_rating(original_matrix, k, random_state=0):\n",
    "    rating_svd = TruncatedSVD(n_components=k, random_state=random_state)\n",
    "    rating_svd.fit(original_matrix)\n",
    "    transformed_matrix = rating_svd.transform(original_matrix)\n",
    "    \n",
    "    return transformed_matrix"
   ]
  },
  {
   "cell_type": "markdown",
   "metadata": {
    "deletable": false,
    "editable": false,
    "nbgrader": {
     "checksum": "0b86b2d207ec073e816591e2f74294f4",
     "grade": false,
     "grade_id": "cell-b3f3790388a0152c",
     "locked": true,
     "schema_version": 1,
     "solution": false
    }
   },
   "source": [
    "With the `svd_transformed_rating` function, we can calculate the transformed matrix through the following command."
   ]
  },
  {
   "cell_type": "code",
   "execution_count": 13,
   "metadata": {},
   "outputs": [
    {
     "data": {
      "text/plain": [
       "array([[26.830835, -6.960034],\n",
       "       [ 0.240135,  0.031972],\n",
       "       [ 2.971341, -2.141467],\n",
       "       ...,\n",
       "       [ 0.291498,  0.05069 ],\n",
       "       [ 3.21725 , -2.321695],\n",
       "       [ 1.503477, -1.018511]])"
      ]
     },
     "execution_count": 13,
     "metadata": {},
     "output_type": "execute_result"
    }
   ],
   "source": [
    "rating_matrix_d2 = svd_transformed_rating(rating_df, 2)\n",
    "# You can uncomment the following line to view the result\n",
    "rating_matrix_d2"
   ]
  },
  {
   "cell_type": "code",
   "execution_count": 14,
   "metadata": {
    "deletable": false,
    "editable": false,
    "nbgrader": {
     "checksum": "b3344433d747c07798711e105f144539",
     "grade": true,
     "grade_id": "cell-abfaa1e6400f27cc",
     "locked": true,
     "points": 15,
     "schema_version": 1,
     "solution": false
    }
   },
   "outputs": [],
   "source": [
    "# This code block tests if the `svd_transformed_rating` function is implemented correctly.\n",
    "# We hide some tests, so passing all the displayed assertions does not guarantee full points.\n",
    "\n",
    "rating_matrix_d2 = svd_transformed_rating(rating_df, 2)\n",
    "# d2_groundtruth is calculated via the following command:\n",
    "# d2_groundtruth = svd_transformed_rating(rating_df, 4)[:4]\n",
    "d2_groundtruth = np.array([[26.830835356   , -6.960033590895],\n",
    "                           [ 0.240134782174,  0.031972398386],\n",
    "                           [ 2.971341010574, -2.141467087847],\n",
    "                           [ 0.997482022276, -0.599895804555],\n",
    "                           [ 0.470445852682, -0.482343299048]])\n",
    "assert np.allclose(rating_matrix_d2[:5], d2_groundtruth)\n",
    "\n",
    "rating_matrix_d5 = svd_transformed_rating(rating_df, 5)\n",
    "d5_groundtruth = np.array([[26.828890919511, -6.950258673617,  1.515366172479, -3.295739836372,  4.157186247066],\n",
    "                           [ 0.24012936551 ,  0.031884190966, -0.018132185754, -0.166903622477, -0.028071803934],\n",
    "                           [ 2.9713046863  , -2.141818808721, -1.232252381363, -0.691324426529,  0.11961284882 ],\n",
    "                           [ 0.997484724453, -0.59970688578 , -0.107441873278,  0.047329773205,  0.160751420569],\n",
    "                           [ 0.470427947552, -0.482204394535,  0.062480138124, -0.238280610506,  0.055425249737]])\n",
    "assert np.allclose(rating_matrix_d5[:5], d5_groundtruth)\n",
    "\n",
    "rating_matrix_transformed = svd_transformed_rating(rating_df, 100)\n",
    "assert rating_matrix_transformed.shape == (2770,100), \"The transformed matrix is of the wrong dimension.\"\n",
    "for i in range(100):\n",
    "    for j in range(i):\n",
    "        assert abs(rating_matrix_transformed.T[i].dot(rating_matrix_transformed.T[j])) < 1e-8, \\\n",
    "            \"The column vectors in X* should be orthogonal.\"\n"
   ]
  },
  {
   "cell_type": "markdown",
   "metadata": {
    "deletable": false,
    "editable": false,
    "nbgrader": {
     "checksum": "22611dff513f8dbca1886680f9723e72",
     "grade": false,
     "grade_id": "cell-be06b3194a45d621",
     "locked": true,
     "schema_version": 1,
     "solution": false
    }
   },
   "source": [
    "A quick note on the above test cell: Ideally, the first $k'$ columns should stay the same for any $k$ as long as $k > k'$. However, you may notice small differences in the test cell (e.g. 26.830835356 vs. 26.828890919511). This is because the `TruncatedSVD` API uses a randomized SVD solver to speed up the calculation, so the output may lose minor precision.\n",
    "\n",
    "As you can see, we even increased $k$ to 100, which is much larger than $k=2$ used in the document-word example. However, this is still much smaller than the 11,937 dimensions in the original rating matrix, and we shall soon see that these 100 dimensions have preserved most of the information in the original matrix."
   ]
  },
  {
   "cell_type": "markdown",
   "metadata": {
    "deletable": false,
    "editable": false,
    "nbgrader": {
     "checksum": "04a0657febd635c61bc61b824b44b168",
     "grade": false,
     "grade_id": "cell-ad14dcd9875dbe31",
     "locked": true,
     "schema_version": 1,
     "solution": false
    }
   },
   "source": [
    "### Exercise 6. (10 pts).\n",
    "This exercise is to help you examine the power of SVD. That is, we want to see how the 100-dimension vectors preserve much information from the 11,937-dimensional vectors. Indeed, we shall see that the similarity between vectors is preserved after the SVD transformation. To show that, we are going to combine several techniques we have learned so far, including vector similarity, patterns in matrix data, and itemset similarity.\n",
    "\n",
    "Please complete the following task:\n",
    "1. Complete the `find_max_dot_prod_restaurants` and the `find_max_dot_prod_restaurants_transformed` function. Each function returns the `business_id` of the top-$n$ restaurants that have the largest dot product with Modavie. The `find_max_dot_prod_restaurants` function calculates the dot product based on the raw vectors (11,937 dimensions). The  `find_max_dot_prod_restaurants_transformed` function calculates with the transformed vectors (100 dimensions). You may copy and paste `find_max_dot_prod_restaurants` from Part III of this assignment.\n",
    "2. Complete the `jaccard_similarity_before_after_svd_transform` function, which calculates the Jaccard similarity between the top-$n$ most similar restaurants (of course, this is an itemset!) before and after the SVD transformation.\n",
    "\n",
    "We have provided all the test cases to help you verify your results."
   ]
  },
  {
   "cell_type": "code",
   "execution_count": 15,
   "metadata": {
    "deletable": false,
    "editable": false,
    "nbgrader": {
     "checksum": "c9f93adfb1fb7b438d9186a07e3d3779",
     "grade": false,
     "grade_id": "cell-bfb1b519868175c2",
     "locked": true,
     "schema_version": 1,
     "solution": false
    }
   },
   "outputs": [
    {
     "data": {
      "text/html": [
       "<div>\n",
       "<style scoped>\n",
       "    .dataframe tbody tr th:only-of-type {\n",
       "        vertical-align: middle;\n",
       "    }\n",
       "\n",
       "    .dataframe tbody tr th {\n",
       "        vertical-align: top;\n",
       "    }\n",
       "\n",
       "    .dataframe thead th {\n",
       "        text-align: right;\n",
       "    }\n",
       "</style>\n",
       "<table border=\"1\" class=\"dataframe\">\n",
       "  <thead>\n",
       "    <tr style=\"text-align: right;\">\n",
       "      <th></th>\n",
       "      <th>0</th>\n",
       "      <th>1</th>\n",
       "      <th>2</th>\n",
       "      <th>3</th>\n",
       "      <th>4</th>\n",
       "      <th>5</th>\n",
       "      <th>6</th>\n",
       "      <th>7</th>\n",
       "      <th>8</th>\n",
       "      <th>9</th>\n",
       "      <th>...</th>\n",
       "      <th>90</th>\n",
       "      <th>91</th>\n",
       "      <th>92</th>\n",
       "      <th>93</th>\n",
       "      <th>94</th>\n",
       "      <th>95</th>\n",
       "      <th>96</th>\n",
       "      <th>97</th>\n",
       "      <th>98</th>\n",
       "      <th>99</th>\n",
       "    </tr>\n",
       "    <tr>\n",
       "      <th>business_id</th>\n",
       "      <th></th>\n",
       "      <th></th>\n",
       "      <th></th>\n",
       "      <th></th>\n",
       "      <th></th>\n",
       "      <th></th>\n",
       "      <th></th>\n",
       "      <th></th>\n",
       "      <th></th>\n",
       "      <th></th>\n",
       "      <th></th>\n",
       "      <th></th>\n",
       "      <th></th>\n",
       "      <th></th>\n",
       "      <th></th>\n",
       "      <th></th>\n",
       "      <th></th>\n",
       "      <th></th>\n",
       "      <th></th>\n",
       "      <th></th>\n",
       "      <th></th>\n",
       "    </tr>\n",
       "  </thead>\n",
       "  <tbody>\n",
       "    <tr>\n",
       "      <th>-1xuC540Nycht_iWFeJ-dw</th>\n",
       "      <td>26.829882</td>\n",
       "      <td>-6.949084</td>\n",
       "      <td>1.637419</td>\n",
       "      <td>-3.495390</td>\n",
       "      <td>4.253959</td>\n",
       "      <td>-1.578638</td>\n",
       "      <td>-4.723778</td>\n",
       "      <td>39.660973</td>\n",
       "      <td>-18.228902</td>\n",
       "      <td>23.421889</td>\n",
       "      <td>...</td>\n",
       "      <td>0.767882</td>\n",
       "      <td>1.533552</td>\n",
       "      <td>1.182358</td>\n",
       "      <td>-0.950001</td>\n",
       "      <td>0.017549</td>\n",
       "      <td>0.262306</td>\n",
       "      <td>-1.707314</td>\n",
       "      <td>-1.132702</td>\n",
       "      <td>-0.558816</td>\n",
       "      <td>0.669832</td>\n",
       "    </tr>\n",
       "    <tr>\n",
       "      <th>-7bRnaHp7OHz8KW-THqP4w</th>\n",
       "      <td>0.240134</td>\n",
       "      <td>0.031948</td>\n",
       "      <td>-0.017022</td>\n",
       "      <td>-0.169980</td>\n",
       "      <td>-0.026894</td>\n",
       "      <td>-0.095219</td>\n",
       "      <td>-0.032490</td>\n",
       "      <td>0.103308</td>\n",
       "      <td>-0.170128</td>\n",
       "      <td>-0.030196</td>\n",
       "      <td>...</td>\n",
       "      <td>0.225307</td>\n",
       "      <td>0.001314</td>\n",
       "      <td>-0.318106</td>\n",
       "      <td>-0.128878</td>\n",
       "      <td>0.100352</td>\n",
       "      <td>0.165589</td>\n",
       "      <td>0.204660</td>\n",
       "      <td>0.075091</td>\n",
       "      <td>0.270025</td>\n",
       "      <td>-0.273088</td>\n",
       "    </tr>\n",
       "    <tr>\n",
       "      <th>-92cC6-X87HQ1DE1UHOx3w</th>\n",
       "      <td>2.971325</td>\n",
       "      <td>-2.141960</td>\n",
       "      <td>-1.232110</td>\n",
       "      <td>-0.698304</td>\n",
       "      <td>0.111484</td>\n",
       "      <td>-0.469199</td>\n",
       "      <td>0.181528</td>\n",
       "      <td>-1.522476</td>\n",
       "      <td>0.333825</td>\n",
       "      <td>0.420363</td>\n",
       "      <td>...</td>\n",
       "      <td>1.406269</td>\n",
       "      <td>1.265186</td>\n",
       "      <td>-1.808670</td>\n",
       "      <td>-0.257573</td>\n",
       "      <td>0.417470</td>\n",
       "      <td>-0.545357</td>\n",
       "      <td>1.153764</td>\n",
       "      <td>0.511001</td>\n",
       "      <td>-0.184996</td>\n",
       "      <td>-1.439649</td>\n",
       "    </tr>\n",
       "    <tr>\n",
       "      <th>-AgfhwHOYrsPKt-_xV_Ipg</th>\n",
       "      <td>0.997471</td>\n",
       "      <td>-0.599784</td>\n",
       "      <td>-0.108910</td>\n",
       "      <td>0.053457</td>\n",
       "      <td>0.161304</td>\n",
       "      <td>0.202928</td>\n",
       "      <td>-0.815409</td>\n",
       "      <td>0.270971</td>\n",
       "      <td>0.649032</td>\n",
       "      <td>0.253430</td>\n",
       "      <td>...</td>\n",
       "      <td>0.384626</td>\n",
       "      <td>-1.344930</td>\n",
       "      <td>0.325934</td>\n",
       "      <td>-0.000308</td>\n",
       "      <td>0.328897</td>\n",
       "      <td>0.074603</td>\n",
       "      <td>0.192419</td>\n",
       "      <td>0.501441</td>\n",
       "      <td>-0.059467</td>\n",
       "      <td>-0.565910</td>\n",
       "    </tr>\n",
       "    <tr>\n",
       "      <th>-FDkvLmwaBrtVgYFqEWeWA</th>\n",
       "      <td>0.470432</td>\n",
       "      <td>-0.481998</td>\n",
       "      <td>0.060954</td>\n",
       "      <td>-0.237180</td>\n",
       "      <td>0.047426</td>\n",
       "      <td>0.081098</td>\n",
       "      <td>-0.075756</td>\n",
       "      <td>-0.257721</td>\n",
       "      <td>0.141577</td>\n",
       "      <td>0.436627</td>\n",
       "      <td>...</td>\n",
       "      <td>-0.100854</td>\n",
       "      <td>-0.031623</td>\n",
       "      <td>-0.198573</td>\n",
       "      <td>0.596779</td>\n",
       "      <td>-0.659795</td>\n",
       "      <td>0.022381</td>\n",
       "      <td>-0.060685</td>\n",
       "      <td>0.787100</td>\n",
       "      <td>-0.165884</td>\n",
       "      <td>0.032865</td>\n",
       "    </tr>\n",
       "  </tbody>\n",
       "</table>\n",
       "<p>5 rows × 100 columns</p>\n",
       "</div>"
      ],
      "text/plain": [
       "                               0         1         2         3         4   \\\n",
       "business_id                                                                 \n",
       "-1xuC540Nycht_iWFeJ-dw  26.829882 -6.949084  1.637419 -3.495390  4.253959   \n",
       "-7bRnaHp7OHz8KW-THqP4w   0.240134  0.031948 -0.017022 -0.169980 -0.026894   \n",
       "-92cC6-X87HQ1DE1UHOx3w   2.971325 -2.141960 -1.232110 -0.698304  0.111484   \n",
       "-AgfhwHOYrsPKt-_xV_Ipg   0.997471 -0.599784 -0.108910  0.053457  0.161304   \n",
       "-FDkvLmwaBrtVgYFqEWeWA   0.470432 -0.481998  0.060954 -0.237180  0.047426   \n",
       "\n",
       "                              5         6          7          8          9   \\\n",
       "business_id                                                                   \n",
       "-1xuC540Nycht_iWFeJ-dw -1.578638 -4.723778  39.660973 -18.228902  23.421889   \n",
       "-7bRnaHp7OHz8KW-THqP4w -0.095219 -0.032490   0.103308  -0.170128  -0.030196   \n",
       "-92cC6-X87HQ1DE1UHOx3w -0.469199  0.181528  -1.522476   0.333825   0.420363   \n",
       "-AgfhwHOYrsPKt-_xV_Ipg  0.202928 -0.815409   0.270971   0.649032   0.253430   \n",
       "-FDkvLmwaBrtVgYFqEWeWA  0.081098 -0.075756  -0.257721   0.141577   0.436627   \n",
       "\n",
       "                        ...        90        91        92        93        94  \\\n",
       "business_id             ...                                                     \n",
       "-1xuC540Nycht_iWFeJ-dw  ...  0.767882  1.533552  1.182358 -0.950001  0.017549   \n",
       "-7bRnaHp7OHz8KW-THqP4w  ...  0.225307  0.001314 -0.318106 -0.128878  0.100352   \n",
       "-92cC6-X87HQ1DE1UHOx3w  ...  1.406269  1.265186 -1.808670 -0.257573  0.417470   \n",
       "-AgfhwHOYrsPKt-_xV_Ipg  ...  0.384626 -1.344930  0.325934 -0.000308  0.328897   \n",
       "-FDkvLmwaBrtVgYFqEWeWA  ... -0.100854 -0.031623 -0.198573  0.596779 -0.659795   \n",
       "\n",
       "                              95        96        97        98        99  \n",
       "business_id                                                               \n",
       "-1xuC540Nycht_iWFeJ-dw  0.262306 -1.707314 -1.132702 -0.558816  0.669832  \n",
       "-7bRnaHp7OHz8KW-THqP4w  0.165589  0.204660  0.075091  0.270025 -0.273088  \n",
       "-92cC6-X87HQ1DE1UHOx3w -0.545357  1.153764  0.511001 -0.184996 -1.439649  \n",
       "-AgfhwHOYrsPKt-_xV_Ipg  0.074603  0.192419  0.501441 -0.059467 -0.565910  \n",
       "-FDkvLmwaBrtVgYFqEWeWA  0.022381 -0.060685  0.787100 -0.165884  0.032865  \n",
       "\n",
       "[5 rows x 100 columns]"
      ]
     },
     "execution_count": 15,
     "metadata": {},
     "output_type": "execute_result"
    }
   ],
   "source": [
    "# This cell helps you prepare a new rating dataframe using the transformed vectors.\n",
    "rating_matrix_transformed = svd_transformed_rating(rating_df, 100)\n",
    "rating_df_transformed = pd.DataFrame(rating_matrix_transformed, index=rating_df.index)\n",
    "rating_df_transformed.head()"
   ]
  },
  {
   "cell_type": "code",
   "execution_count": 18,
   "metadata": {
    "deletable": false,
    "nbgrader": {
     "checksum": "25bfe5ec1795a82685e3df801c151cfc",
     "grade": false,
     "grade_id": "cell-869be40842fc6655",
     "locked": false,
     "schema_version": 1,
     "solution": true
    }
   },
   "outputs": [],
   "source": [
    "def find_max_dot_prod_restaurants(top_n):\n",
    "    modavie_id = business_df[business_df.name.str.contains(\"Modavie\")].index[0]\n",
    "    modavie_vector = rating_df.loc[modavie_id]\n",
    "    modavie_dot_prod = {}\n",
    "    for i in range(rating_df.shape[0]):\n",
    "        modavie_dot_prod[rating_df.index[i]] = np.dot(modavie_vector, rating_df.iloc[i])\n",
    "    \n",
    "    dot_prod_df = pd.DataFrame(modavie_dot_prod.items(), columns=['business_id', 'modavie_dot_prod'])\n",
    "    dot_prod_df.set_index('business_id', inplace=True)\n",
    "\n",
    "    business_df_dot_prod = business_df.copy()\n",
    "    business_df_dot_prod = business_df_dot_prod.join(dot_prod_df)\n",
    "    business_df_dot_prod = business_df_dot_prod.sort_values(by='modavie_dot_prod', ascending=False)\n",
    "    \n",
    "    return business_df_dot_prod[1:top_n+1]\n",
    "\n",
    "def find_max_dot_prod_restaurants_transformed(top_n):\n",
    "    modavie_id = business_df[business_df.name.str.contains(\"Modavie\")].index[0]\n",
    "    modavie_vector_transformed = rating_df_transformed.loc[modavie_id]\n",
    "    \n",
    "    modavie_dot_prod_transformed = {}\n",
    "    for i in range(rating_df_transformed.shape[0]):\n",
    "        modavie_dot_prod_transformed[rating_df_transformed.index[i]] = np.dot(modavie_vector_transformed, rating_df_transformed.iloc[i])\n",
    "    \n",
    "    dot_prod_df_transformed = pd.DataFrame(modavie_dot_prod_transformed.items(), columns=['business_id', 'modavie_dot_prod'])\n",
    "    dot_prod_df_transformed.set_index('business_id', inplace=True)\n",
    "   \n",
    "    business_df_dot_prod_transformed = business_df.copy()\n",
    "    business_df_dot_prod_transformed = business_df_dot_prod_transformed.join(dot_prod_df_transformed)\n",
    "    business_df_dot_prod_transformed = business_df_dot_prod_transformed.sort_values(by='modavie_dot_prod', ascending=False)\n",
    "    \n",
    "    return business_df_dot_prod_transformed[1:top_n+1]\n",
    "    \n",
    "    "
   ]
  },
  {
   "cell_type": "code",
   "execution_count": 19,
   "metadata": {
    "deletable": false,
    "editable": false,
    "nbgrader": {
     "checksum": "d9b81371764301742a8f39f1180a9765",
     "grade": false,
     "grade_id": "cell-0f103eb78bef9c48",
     "locked": true,
     "schema_version": 1,
     "solution": false
    }
   },
   "outputs": [],
   "source": [
    "# This code block help you verify if `find_max_dot_prod_restaurants_transformed` is implemented correctly.\n",
    "answer = find_max_dot_prod_restaurants_transformed(10)\n",
    "assert answer.iloc[0]['name'] == \"Schwartz's\"\n",
    "assert answer.iloc[1]['name'] == \"La Banquise\"\n",
    "assert answer.iloc[2]['name'] == \"Olive & Gourmando\"\n",
    "assert answer.iloc[3]['name'] == \"Maison Christian Faure\"\n",
    "assert answer.iloc[4]['name'] == \"Reuben's Deli & Steakhouse\"\n",
    "\n",
    "assert answer.iloc[5]['name'] == \"Kazu\"\n",
    "assert answer.iloc[6]['name'] == \"Belon\"\n",
    "assert answer.iloc[7]['name'] == \"Au Pied de Cochon\"\n",
    "assert answer.iloc[8]['name'] == \"L'Avenue\"\n",
    "assert answer.iloc[9]['name'] == \"Poutineville\""
   ]
  },
  {
   "cell_type": "code",
   "execution_count": 20,
   "metadata": {
    "deletable": false,
    "nbgrader": {
     "checksum": "2342db833158a188942177912e32b339",
     "grade": false,
     "grade_id": "cell-e0ba9761d388a56b",
     "locked": false,
     "schema_version": 1,
     "solution": true
    }
   },
   "outputs": [],
   "source": [
    "def jaccard_similarity_before_after_svd_transform(top_n):\n",
    "    max_sim_restaurants = find_max_dot_prod_restaurants(top_n)\n",
    "    max_sim_restaurants_transformed = find_max_dot_prod_restaurants_transformed(top_n)\n",
    "    # construct the set of the names of the most similar restaurants\n",
    "    business_id_before = set(max_sim_restaurants.name)\n",
    "    business_id_after = set(max_sim_restaurants_transformed.name)\n",
    "    # compute the Jaccard similarity between the two set and return the Jaccard similarity\n",
    "    \n",
    "    jaccard_similarity = len(business_id_before.intersection(business_id_after))/len(business_id_before.union(business_id_after))\n",
    "    \n",
    "    return jaccard_similarity"
   ]
  },
  {
   "cell_type": "code",
   "execution_count": 21,
   "metadata": {
    "deletable": false,
    "editable": false,
    "nbgrader": {
     "checksum": "b65a84bc3804b530766e075f70273c36",
     "grade": true,
     "grade_id": "cell-cbb0be3036729dff",
     "locked": true,
     "points": 10,
     "schema_version": 1,
     "solution": false
    }
   },
   "outputs": [],
   "source": [
    "# This code block checks `find_max_dot_prod_restaurants`, `find_max_dot_prod_restaurants_transformed`, \n",
    "# and 'jaccard_similarity_before_after_svd_transform'. You should get the correct answer if all three \n",
    "# functions are implemented correctly.\n",
    "# We hide some tests, so passing all the displayed assertions does not guarantee full points.\n",
    "\n",
    "assert abs(jaccard_similarity_before_after_svd_transform(5) - 1) < 1e-8\n",
    "assert abs(jaccard_similarity_before_after_svd_transform(10) - 0.8181818181818182) < 1e-8\n",
    "assert abs(jaccard_similarity_before_after_svd_transform(2770) - 1) < 1e-8\n"
   ]
  },
  {
   "cell_type": "markdown",
   "metadata": {
    "deletable": false,
    "editable": false,
    "nbgrader": {
     "checksum": "5c683c245e696cb5c11e7c96edfd9183",
     "grade": false,
     "grade_id": "cell-184454d9a2f45081",
     "locked": true,
     "schema_version": 1,
     "solution": false
    }
   },
   "source": [
    "As you can see, you can perform many tasks on the transformed vectors just as what you can do on the raw vectors. Since the transformed vectors have far fewer dimensions, the efficiency is much higher with the transformed vectors. Beyond efficiency, dimension reduction has many other benefits for dealing with matrix data.  You will learn these in the downstream machine learning classes, but let's stop here for now.  Matrix analysis has lots of applications in recommender systems.  We will revisit some of these techniques when that topic comes up.  \n",
    "\n",
    "This concludes this assignment."
   ]
  }
 ],
 "metadata": {
  "coursera": {
   "schema_names": [
    "mads_data_mining_i_v2_assignment3_part4"
   ]
  },
  "kernelspec": {
   "display_name": "Python 3",
   "language": "python",
   "name": "python3"
  },
  "language_info": {
   "codemirror_mode": {
    "name": "ipython",
    "version": 3
   },
   "file_extension": ".py",
   "mimetype": "text/x-python",
   "name": "python",
   "nbconvert_exporter": "python",
   "pygments_lexer": "ipython3",
   "version": "3.7.3"
  }
 },
 "nbformat": 4,
 "nbformat_minor": 2
}
