{
 "cells": [
  {
   "cell_type": "code",
   "execution_count": null,
   "metadata": {
    "deletable": false,
    "editable": false,
    "nbgrader": {
     "checksum": "ec9b6f9db3ab56af201262c62ddc3267",
     "grade": false,
     "grade_id": "cell-7741f396525d4003",
     "locked": true,
     "schema_version": 1,
     "solution": false
    }
   },
   "outputs": [],
   "source": [
    "version = \"v2.2.033020\""
   ]
  },
  {
   "cell_type": "markdown",
   "metadata": {
    "deletable": false,
    "editable": false,
    "nbgrader": {
     "checksum": "bc6cb9a450ed1524aa4c7040c64ac8fc",
     "grade": false,
     "grade_id": "cell-31d8dc89f46b028d",
     "locked": true,
     "schema_version": 1,
     "solution": false
    }
   },
   "source": [
    "# Assignment 3: Mining Vectors and Matrices (Part II)\n",
    "\n",
    "## Similarity of vectors\n",
    "Now that we have represented the user-restaurant ratings as a matrix, where each row vector represents the ratings of one restaurant, we can compute the similarity of two restaurants by calcluating the similarity of the two corresponding vectors. As there are various measurements of similarity, let's try a few of them.\n",
    "\n",
    "First, let's import the packages and dependencies that will be used in this part of the assignment."
   ]
  },
  {
   "cell_type": "code",
   "execution_count": null,
   "metadata": {
    "deletable": false,
    "editable": false,
    "nbgrader": {
     "checksum": "be36e843abf1c23f3ee66c14b0aebf34",
     "grade": false,
     "grade_id": "cell-f849542a7e43c71a",
     "locked": true,
     "schema_version": 1,
     "solution": false
    }
   },
   "outputs": [],
   "source": [
    "from math import sqrt"
   ]
  },
  {
   "cell_type": "markdown",
   "metadata": {
    "deletable": false,
    "editable": false,
    "nbgrader": {
     "checksum": "3e4c4ad2230814505342c239d99248c7",
     "grade": false,
     "grade_id": "cell-c667629d7e648f81",
     "locked": true,
     "schema_version": 1,
     "solution": false
    }
   },
   "source": [
    "**<span style=\"color:red\">NOTE: These are all the imports we need to make for this assignment (Part II). You should not make other imports in your submitted notebook. You will receive 0 points for the exercises if your solution includes additional imports.</span>**"
   ]
  },
  {
   "cell_type": "markdown",
   "metadata": {
    "deletable": false,
    "editable": false,
    "nbgrader": {
     "checksum": "b86bc7a54bacdce6059cf799bc2ad67e",
     "grade": false,
     "grade_id": "cell-90a744b35c34907f",
     "locked": true,
     "schema_version": 1,
     "solution": false
    }
   },
   "source": [
    "### Dot Product\n",
    "Dot product, also known as inner product, is defined as \n",
    "$$ \\vec{X}\\cdot \\vec{Y} = \\sum_i x_iy_i$$\n",
    "and it can be calculated with the following `dot` function"
   ]
  },
  {
   "cell_type": "code",
   "execution_count": null,
   "metadata": {
    "deletable": false,
    "editable": false,
    "nbgrader": {
     "checksum": "022a4e87bad6283edbb759b81f13eafd",
     "grade": false,
     "grade_id": "cell-61b8d885af8a3db2",
     "locked": true,
     "schema_version": 1,
     "solution": false
    }
   },
   "outputs": [],
   "source": [
    "def dot_prod(vec_x, vec_y):\n",
    "    \"\"\"\n",
    "    For this assignment, you can assume the validity of the input, that is, \n",
    "    `vec_x` and `vec_y` are both arrays of float values with the same length. \n",
    "    \"\"\"\n",
    "    prod = 0\n",
    "    for i in range(len(vec_x)):\n",
    "        prod += vec_x[i] * vec_y[i]\n",
    "    return prod"
   ]
  },
  {
   "cell_type": "markdown",
   "metadata": {
    "deletable": false,
    "editable": false,
    "nbgrader": {
     "checksum": "2a3fb46b7b38d6ef4e760a054985f7c1",
     "grade": false,
     "grade_id": "cell-761c23264d2413db",
     "locked": true,
     "schema_version": 1,
     "solution": false
    }
   },
   "source": [
    "This function is to show you how dot product can be calculated. In fact, this function has already been implemented by the `numpy` package, and we can easily use `np.dot(vec_x, vec_y)` to calculate the dot product, which is much more efficient."
   ]
  },
  {
   "cell_type": "markdown",
   "metadata": {
    "deletable": false,
    "editable": false,
    "nbgrader": {
     "checksum": "9c1a03ada339b77e91c82ae9614b42b5",
     "grade": false,
     "grade_id": "cell-fe9c6a761b2d0c6a",
     "locked": true,
     "schema_version": 1,
     "solution": false
    }
   },
   "source": [
    "### Exercise 2. Implementing similarity/distance metrics (45 pts, 15 pts for each)\n",
    "Now that we have shown you how to implement dot product, can you implement the other similarity/distance metrics introduced in the lectures? \n",
    "\n",
    "Note that *distance* and *similarity* are the opposite sides of the same concept. For each exercise, BE CAREFUL to see whether we are asking you to implement a **distance** or **similarity** metric. "
   ]
  },
  {
   "cell_type": "markdown",
   "metadata": {
    "deletable": false,
    "editable": false,
    "nbgrader": {
     "checksum": "7e16cec4a0819ee3682bc67fef93ed7b",
     "grade": false,
     "grade_id": "cell-4c86176ace0865d7",
     "locked": true,
     "schema_version": 1,
     "solution": false
    }
   },
   "source": [
    "#### Exercise 2(a) Manhattan Distance\n",
    "Recall from the lecture, Manhattan Distance is defined as follows:\n",
    "$$d(\\vec{X}, \\vec{Y}) = \\sum_i |x_i - y_i|$$"
   ]
  },
  {
   "cell_type": "code",
   "execution_count": null,
   "metadata": {
    "deletable": false,
    "nbgrader": {
     "checksum": "e1071b970c50e71a1e539f282bf42086",
     "grade": false,
     "grade_id": "cell-717abc2d1813a34e",
     "locked": false,
     "schema_version": 1,
     "solution": true
    }
   },
   "outputs": [],
   "source": [
    "def manhattan_distance(vec_x, vec_y):\n",
    "    \"\"\"\n",
    "    For this assignment, you can assume the validity of the input, that is, \n",
    "    `vec_x` and `vec_y` are both arrays of float values with the same length. \n",
    "    \"\"\"\n",
    "    sum_abs = 0\n",
    "    for i in range(len(vec_x)):\n",
    "        # YOUR CODE HERE\n",
    "        raise NotImplementedError()\n",
    "    return sum_abs"
   ]
  },
  {
   "cell_type": "code",
   "execution_count": null,
   "metadata": {
    "deletable": false,
    "editable": false,
    "nbgrader": {
     "checksum": "84e012c2478c2d3b9141e5497a397845",
     "grade": true,
     "grade_id": "cell-5d3c56d97eda4da6",
     "locked": true,
     "points": 15,
     "schema_version": 1,
     "solution": false
    }
   },
   "outputs": [],
   "source": [
    "# This code block tests whether the `manhattan_distance` function is implemented correctly.\n",
    "# We hide some tests, so passing all the displayed assertions does not guarantee full points.\n",
    "\n",
    "assert abs(manhattan_distance([1, 1, 1, 1], [1, 1, 1, 2]) - 1) < 1e-8\n",
    "assert abs(manhattan_distance([1, 0, 1], [2, 0, 2]) - 2) < 1e-8\n"
   ]
  },
  {
   "cell_type": "markdown",
   "metadata": {
    "deletable": false,
    "editable": false,
    "nbgrader": {
     "checksum": "f1953190fc7265ea93ade40077bbdcf8",
     "grade": false,
     "grade_id": "cell-c7ff6a7ec0b06dff",
     "locked": true,
     "schema_version": 1,
     "solution": false
    }
   },
   "source": [
    "#### Exercise 2(b) Euclidean Distance\n",
    "Recall from the lecture, Euclidean Distance is defined as\n",
    "$$ d(\\vec{X}, \\vec{Y}) = \\sqrt{\\sum_i(x_i-y_i)^2} $$"
   ]
  },
  {
   "cell_type": "code",
   "execution_count": null,
   "metadata": {
    "deletable": false,
    "nbgrader": {
     "checksum": "6eb972f995dee5cd285ace2061a43525",
     "grade": false,
     "grade_id": "cell-1dd26ae308a5352e",
     "locked": false,
     "schema_version": 1,
     "solution": true
    }
   },
   "outputs": [],
   "source": [
    "def euclidean_distance(vec_x, vec_y):\n",
    "    \"\"\"\n",
    "    For this assignment, you can assume the validity of the input, that is, \n",
    "    `vec_x` and `vec_y` are both arrays of float values with the same length. \n",
    "    \"\"\"\n",
    "    sum_square = 0\n",
    "    # YOUR CODE HERE\n",
    "    raise NotImplementedError()\n",
    "    return sqrt(sum_square)"
   ]
  },
  {
   "cell_type": "code",
   "execution_count": null,
   "metadata": {
    "deletable": false,
    "editable": false,
    "nbgrader": {
     "checksum": "f87a3243b9d9a04acee4eda94cbc45e3",
     "grade": false,
     "grade_id": "cell-fc722b30e1b0f073",
     "locked": true,
     "schema_version": 1,
     "solution": false
    }
   },
   "outputs": [],
   "source": [
    "euclidean_distance([1, 0, 1], [2, 0, 2])"
   ]
  },
  {
   "cell_type": "code",
   "execution_count": null,
   "metadata": {
    "deletable": false,
    "editable": false,
    "nbgrader": {
     "checksum": "8ae6875a2a69b3badec258bc69e9eff0",
     "grade": true,
     "grade_id": "cell-dfc0b8bb1c1d2c5a",
     "locked": true,
     "points": 15,
     "schema_version": 1,
     "solution": false
    }
   },
   "outputs": [],
   "source": [
    "# This code block tests whether the `manhattan_distance` function is implemented correctly.\n",
    "# We hide some tests, so passing all the displayed assertions does not guarantee full points.\n",
    "\n",
    "assert abs(euclidean_distance([1, 1, 1, 1], [1, 1, 1, 2]) - 1) < 1e-8\n",
    "assert abs(euclidean_distance([1, 0, 1], [2, 0, 2]) - sqrt(2)) < 1e-8\n"
   ]
  },
  {
   "cell_type": "markdown",
   "metadata": {
    "deletable": false,
    "editable": false,
    "nbgrader": {
     "checksum": "b8c32c0552ed6d6cb9fb9755c073ca3e",
     "grade": false,
     "grade_id": "cell-50f39d18c36fc04c",
     "locked": true,
     "schema_version": 1,
     "solution": false
    }
   },
   "source": [
    "#### Exercise 2(c) Cosine Similarity\n",
    "And finally, the cosine similarity is defined as:\n",
    "$$ \\cos(\\vec{X}, \\vec{Y}) = \\frac{\\sum_ix_iy_i}{\\sqrt{\\sum_ix_i^2}\\cdot\\sqrt{\\sum_iy_i^2}}$$"
   ]
  },
  {
   "cell_type": "code",
   "execution_count": null,
   "metadata": {
    "deletable": false,
    "nbgrader": {
     "checksum": "7fa93a48439b1292590625fabfb37dbd",
     "grade": false,
     "grade_id": "cell-6dc2c67839b6b0d7",
     "locked": false,
     "schema_version": 1,
     "solution": true
    }
   },
   "outputs": [],
   "source": [
    "def cosine_similarity(vec_x, vec_y):\n",
    "    \"\"\"\n",
    "    For this assignment, you can assume the validity of the input, that is, \n",
    "    `vec_x` and `vec_y` are both arrays of float values with the same length.\n",
    "    You can further assume that both vectors are not zero vector.\n",
    "    \"\"\"\n",
    "    sum_x2 = 0\n",
    "    sum_y2 = 0\n",
    "    sum_xy = 0\n",
    "    # YOUR CODE HERE\n",
    "    raise NotImplementedError()"
   ]
  },
  {
   "cell_type": "code",
   "execution_count": null,
   "metadata": {
    "deletable": false,
    "editable": false,
    "nbgrader": {
     "checksum": "19cf4ead20b90baf49afbf33038c42db",
     "grade": false,
     "grade_id": "cell-351bbdaf23bc289e",
     "locked": true,
     "schema_version": 1,
     "solution": false
    }
   },
   "outputs": [],
   "source": [
    "cosine_similarity([1, 0, 1], [2, 0, 2])"
   ]
  },
  {
   "cell_type": "code",
   "execution_count": null,
   "metadata": {
    "deletable": false,
    "editable": false,
    "nbgrader": {
     "checksum": "73b3d823b8398987fcf6aef430ad68b5",
     "grade": true,
     "grade_id": "cell-7f81b7307a80f9ed",
     "locked": true,
     "points": 15,
     "schema_version": 1,
     "solution": false
    }
   },
   "outputs": [],
   "source": [
    "# This code block tests whether the `manhattan_distance` function is implemented correctly.\n",
    "# We hide some tests, so passing all the displayed assertions does not guarantee full points.\n",
    "\n",
    "assert abs(cosine_similarity([1, 1, 1, 1], [1, 1, 1, 2]) - 0.944911182523068) < 1e-8\n",
    "assert abs(cosine_similarity([1, 0, 1], [2, 0, 2]) - 1) < 1e-8\n"
   ]
  },
  {
   "cell_type": "markdown",
   "metadata": {
    "deletable": false,
    "editable": false,
    "nbgrader": {
     "checksum": "75fac8d07247e5ddf77cf8b4f0ade18e",
     "grade": false,
     "grade_id": "cell-df8d8dd6521aa9e1",
     "locked": true,
     "schema_version": 1,
     "solution": false
    }
   },
   "source": [
    "### Final Note\n",
    "In this assignment, we have implemented several similarity/distance metrics by hand. In reality, however, it's better to use more efficient and professionally maintained implementations to calculate the metrics. Many packages (such as NumPy, SciPy, and scikit-learn) have done this for you. With many lower-level optimization tricks, they are much more efficient. In fact, you are encouraged to check out a few of them and compare with your implemented functions. Just make sure not to use them directly in your submission of Exercise 2. \n",
    "\n",
    "- The SciPy documentation on distance metrics can be found [here](https://docs.scipy.org/doc/scipy/reference/spatial.distance.html). \n",
    "- NumPy does not implement these metrics directly, but it is very handy (and efficient) to implement with NumPy's vector operators. For example, cosine similarity can be implemented as `np.dot(x, y)/(np.linalg.norm(x) * np.linalg.norm(y))`, euclidean distance as `np.norm(x - y)`.\n",
    "- Scikit-learn offers many utility functions under `sklearn.metrics.pairwise` You can read more about it [here](https://scikit-learn.org/stable/modules/metrics.html). These APIs are very handy to calculate the *pairwise* similarity within a list (or between two lists) of vectors.\n",
    "\n",
    "When you use an API, **be careful to check whether it returns a <span style=\"color:red\"> distance </span> or <span style=\"color:red\"> similarity </span> metric.**"
   ]
  }
 ],
 "metadata": {
  "coursera": {
   "schema_names": [
    "mads_data_mining_i_v2_assignment3_part2"
   ]
  },
  "kernelspec": {
   "display_name": "Python 3",
   "language": "python",
   "name": "python3"
  },
  "language_info": {
   "codemirror_mode": {
    "name": "ipython",
    "version": 3
   },
   "file_extension": ".py",
   "mimetype": "text/x-python",
   "name": "python",
   "nbconvert_exporter": "python",
   "pygments_lexer": "ipython3",
   "version": "3.7.3"
  }
 },
 "nbformat": 4,
 "nbformat_minor": 2
}
