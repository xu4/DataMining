{
 "cells": [
  {
   "cell_type": "code",
   "execution_count": null,
   "metadata": {
    "deletable": false,
    "editable": false,
    "nbgrader": {
     "checksum": "bf6143ebbd1e6228bed21c5cf67b7ea4",
     "grade": false,
     "grade_id": "cell-65c0a5e3419ec9e9",
     "locked": true,
     "schema_version": 1,
     "solution": false
    }
   },
   "outputs": [],
   "source": [
    "version = \"v2.2.033020\""
   ]
  },
  {
   "cell_type": "markdown",
   "metadata": {
    "deletable": false,
    "editable": false,
    "nbgrader": {
     "checksum": "ab2000fd4079198d181350b991b32028",
     "grade": false,
     "grade_id": "cell-be22ff85a22f3bad",
     "locked": true,
     "schema_version": 1,
     "solution": false
    }
   },
   "source": [
    "# Assignment 3: Mining Vectors and Matrices (Part IV)\n",
    "\n",
    "## Patterns in Matrix Data\n",
    "In the last part of the assignment, let's explore the patterns in a matrix as a whole instead of in individual vectors. As discussed in class, one type of such patterns are *eigenvectors*, which can be obtained through *Singular Value Decomposition* (SVD):\n",
    "\n",
    "$$X=U\\Sigma V^T.$$\n",
    "\n",
    "$X$ is an $n \\times p$ matrix, $U\\cdot U^T = I$, $V\\cdot V^T = I$, and $\\Sigma$ is an $n\\times p$ diagonal matrix with non-zero singular values.\n",
    "\n",
    "Let's first walk through the example in the lecture."
   ]
  },
  {
   "cell_type": "code",
   "execution_count": null,
   "metadata": {
    "deletable": false,
    "editable": false,
    "nbgrader": {
     "checksum": "f4c1964f4e7c58797a4a1aa66ca4bf97",
     "grade": false,
     "grade_id": "cell-e1ca86ccbbdd8194",
     "locked": true,
     "schema_version": 1,
     "solution": false
    }
   },
   "outputs": [],
   "source": [
    "import pandas as pd\n",
    "import numpy as np\n",
    "from sklearn.decomposition import TruncatedSVD\n",
    "\n",
    "np.set_printoptions(precision=6)\n",
    "np.set_printoptions(suppress=True)"
   ]
  },
  {
   "cell_type": "code",
   "execution_count": null,
   "metadata": {
    "deletable": false,
    "editable": false,
    "nbgrader": {
     "checksum": "6c876b3052cd2a3aff3c9f53353640a9",
     "grade": false,
     "grade_id": "cell-741d659c7dcd642b",
     "locked": true,
     "schema_version": 1,
     "solution": false
    }
   },
   "outputs": [],
   "source": [
    "doc_word_df = pd.DataFrame([[1, 1, 1, 0, 0], \n",
    "                            [2, 2, 2, 0, 0],\n",
    "                            [1, 1, 1, 0, 0],\n",
    "                            [5, 5, 5, 0, 0],\n",
    "                            [0, 0, 0, 2, 2],\n",
    "                            [0, 0, 0, 3, 3],\n",
    "                            [0, 0, 0, 1, 1]])\n",
    "doc_word_df.columns = ['data', 'information', 'retrieval', 'brain', 'lung']\n",
    "doc_word_df.index = ['Data Science 1', 'Data Science 2', 'Data Science 3, ', 'Data Science 4', \n",
    "                     'Medical Report 1', 'Medical Report 1', 'Medical Report 1']\n",
    "doc_word_df"
   ]
  },
  {
   "cell_type": "markdown",
   "metadata": {
    "deletable": false,
    "editable": false,
    "nbgrader": {
     "checksum": "6eeba751ace84f4b2d09015183038c51",
     "grade": false,
     "grade_id": "cell-05a45f0079169555",
     "locked": true,
     "schema_version": 1,
     "solution": false
    }
   },
   "source": [
    "Several Python packages, such as NumPy, SciPy, and scikit-learn, all provide APIs for SVD. In this assignment, we will use `TruncatedSVD` API from scikit-learn, as it allows us to compute only the largest $k$ singular values in $\\Sigma$ and the corresponding $k$ columns (rows) of $U$ ($V^T$), which is more efficient and practical in real-world applications. You can learn more about the API from its [documentation](https://scikit-learn.org/stable/modules/generated/sklearn.decomposition.TruncatedSVD.html).\n",
    "\n",
    "For this example, we explicitly specify $k=2$ (so we are only interested in the first 2 components), and we assign a constant to `random_state` to ensure that the result is reproducible. "
   ]
  },
  {
   "cell_type": "code",
   "execution_count": null,
   "metadata": {
    "deletable": false,
    "editable": false,
    "nbgrader": {
     "checksum": "7c76baa584726ae3e1510abf59ca0923",
     "grade": false,
     "grade_id": "cell-db637380fb3bea49",
     "locked": true,
     "schema_version": 1,
     "solution": false
    }
   },
   "outputs": [],
   "source": [
    "doc_word_svd = TruncatedSVD(n_components=2, random_state=0)\n",
    "doc_word_svd.fit(doc_word_df)"
   ]
  },
  {
   "cell_type": "markdown",
   "metadata": {
    "deletable": false,
    "editable": false,
    "nbgrader": {
     "checksum": "82f77a958a090482f54f4864e8386e93",
     "grade": false,
     "grade_id": "cell-5a3fffdd5b8bb588",
     "locked": true,
     "schema_version": 1,
     "solution": false
    }
   },
   "source": [
    "Now the object `doc_word_svd` stores all the necessary results of the decomposed matrix. You can view the singular values (the diagonal values in $\\Sigma$) in the `singular_values_` attribute and the row vectors of $V^T$ in the `components_` attribute."
   ]
  },
  {
   "cell_type": "code",
   "execution_count": null,
   "metadata": {
    "deletable": false,
    "editable": false,
    "nbgrader": {
     "checksum": "56a3701e9175e2580d01018599d3b561",
     "grade": false,
     "grade_id": "cell-8f3247e8d20d738f",
     "locked": true,
     "schema_version": 1,
     "solution": false
    }
   },
   "outputs": [],
   "source": [
    "sigma_diag = doc_word_svd.singular_values_\n",
    "v_t = doc_word_svd.components_\n",
    "print(sigma_diag)\n",
    "print(v_t)"
   ]
  },
  {
   "cell_type": "markdown",
   "metadata": {
    "deletable": false,
    "editable": false,
    "nbgrader": {
     "checksum": "a6252ed9fa6e2468829054fd7ee435b9",
     "grade": false,
     "grade_id": "cell-a28b706e7f031849",
     "locked": true,
     "schema_version": 1,
     "solution": false
    }
   },
   "source": [
    "You may wonder where the $U$ matrix is. Although $U$ is not explicitly stored in the `TruncatedSVD` object. it can be recovered with $X$, $\\Sigma$, and $V$, based on the following formula:\n",
    "\n",
    "$$ X^* = U\\Sigma = XV.$$\n",
    "\n",
    "Thus, $U$ can be written as\n",
    "\n",
    "$$ U = X^* \\Sigma^{-1} = XV\\Sigma^{-1}. $$\n",
    "\n",
    "We can verify this with the following code:"
   ]
  },
  {
   "cell_type": "code",
   "execution_count": null,
   "metadata": {
    "deletable": false,
    "editable": false,
    "nbgrader": {
     "checksum": "75387b5e1359197395d51493150eb980",
     "grade": false,
     "grade_id": "cell-ad45e32cce1a7a61",
     "locked": true,
     "schema_version": 1,
     "solution": false
    }
   },
   "outputs": [],
   "source": [
    "x = doc_word_df.values\n",
    "v = v_t.T\n",
    "sigma_inverse = np.linalg.inv(np.diag(sigma_diag))\n",
    "\n",
    "u = x.dot(v).dot(sigma_inverse)\n",
    "print(u)"
   ]
  },
  {
   "cell_type": "markdown",
   "metadata": {
    "deletable": false,
    "editable": false,
    "nbgrader": {
     "checksum": "8547fec2493409a898f0ff016481b9b4",
     "grade": false,
     "grade_id": "cell-94737da88ec726fd",
     "locked": true,
     "schema_version": 1,
     "solution": false
    }
   },
   "source": [
    "Now let's try to interpret $U$, $\\Sigma$, and $V^T$ by thinking about the following questions (not graded):\n",
    "\n",
    "* Which codes the Data Science / Medical concept of each document?\n",
    "* Which codes the strength of each concept?\n",
    "* Which codes the word representation of each concept?\n",
    "\n",
    "One important application of SVD is to transform the original matrix $X$ in to a new matrix $X^*$. This transformation projects the $p$-dimensional row vectors in the original matrix into $k$-dimensional vectors in the new vector space. $X^*$ encodes most of the information in the original $X$ matrix with fewer dimensions.\n",
    "\n",
    "Mathamatically, the transformation is made by post-multiplying $X$ with the $V$ matrix ($ X^* = XV$). The `TruncatedSVD` API has implemented such transformation as a `transform` function. You may verify this with the following code:"
   ]
  },
  {
   "cell_type": "code",
   "execution_count": null,
   "metadata": {
    "deletable": false,
    "editable": false,
    "nbgrader": {
     "checksum": "288cbb35608b6ea066328d0d18c2a48e",
     "grade": false,
     "grade_id": "cell-ae3456e607ee5fe5",
     "locked": true,
     "schema_version": 1,
     "solution": false
    }
   },
   "outputs": [],
   "source": [
    "print(doc_word_svd.transform(doc_word_df))"
   ]
  },
  {
   "cell_type": "code",
   "execution_count": null,
   "metadata": {
    "deletable": false,
    "editable": false,
    "nbgrader": {
     "checksum": "f47fa8f3eff2ebfce36267ee23f7fb2c",
     "grade": false,
     "grade_id": "cell-217cb78e9de07feb",
     "locked": true,
     "schema_version": 1,
     "solution": false
    }
   },
   "outputs": [],
   "source": [
    "print(doc_word_df.values.dot(v))"
   ]
  },
  {
   "cell_type": "markdown",
   "metadata": {
    "deletable": false,
    "editable": false,
    "nbgrader": {
     "checksum": "9bdad0bd106fd1c4695d08b3b36745e1",
     "grade": false,
     "grade_id": "cell-27e1b590ce7af767",
     "locked": true,
     "schema_version": 1,
     "solution": false
    }
   },
   "source": [
    "Now that you are familiar with the SVD operations. Let's apply it to the Montréal restaurant dataset. Run the following code block to load the dataset prepared in Part I of this assignment."
   ]
  },
  {
   "cell_type": "code",
   "execution_count": null,
   "metadata": {
    "deletable": false,
    "editable": false,
    "nbgrader": {
     "checksum": "a3499ff26f9cd4d3863c72c2e6aa3c2b",
     "grade": false,
     "grade_id": "cell-323aeeb09c68c407",
     "locked": true,
     "schema_version": 1,
     "solution": false
    }
   },
   "outputs": [],
   "source": [
    "business_df = pd.read_csv('assets/montreal_business.csv')\n",
    "business_df.set_index('business_id', inplace=True)\n",
    "\n",
    "review_df = pd.read_csv('assets/montreal_user.csv')\n",
    "rating_df = review_df.pivot_table(index=['business_id'], columns=['user_id'], values='stars')\n",
    "rating_df.fillna(0, inplace=True)\n",
    "\n",
    "missing_business_id = set(business_df.index) - set(rating_df.index)\n",
    "business_df.drop(missing_business_id, inplace=True)"
   ]
  },
  {
   "cell_type": "markdown",
   "metadata": {
    "deletable": false,
    "editable": false,
    "nbgrader": {
     "checksum": "de6ddace7617090491aacf7633f3f4b3",
     "grade": false,
     "grade_id": "cell-93b44c3cbc376427",
     "locked": true,
     "schema_version": 1,
     "solution": false
    }
   },
   "source": [
    "### Exercise 5. (15 pts.)\n",
    "Complete the following `transformed_rating` function, which transforms the original $n\\times p$ rating matrix into a new $n \\times k$ matrix using the `TruncatedSVD` API. The function should return the $n \\times k$ matrix.\n",
    "\n",
    "**Note:**\n",
    "1. Please set the `random_state` to 0 so that the results do not change over different runs.\n",
    "2. $k$ can take values between 1 and $p$, not necessarily the 2 used in the document-word matrix example.\n",
    "3. You may either use the `transformation` function in the `TruncatedSVD` object or use the dot product. Both are OK."
   ]
  },
  {
   "cell_type": "code",
   "execution_count": null,
   "metadata": {
    "deletable": false,
    "nbgrader": {
     "checksum": "441b40e3dd37073bd19d0aad0af80716",
     "grade": false,
     "grade_id": "cell-6da0da7f356ffe5d",
     "locked": false,
     "schema_version": 1,
     "solution": true
    }
   },
   "outputs": [],
   "source": [
    "def svd_transformed_rating(original_matrix, k, random_state=0):\n",
    "    # YOUR CODE HERE\n",
    "    raise NotImplementedError()\n",
    "    return transformed_matrix"
   ]
  },
  {
   "cell_type": "markdown",
   "metadata": {
    "deletable": false,
    "editable": false,
    "nbgrader": {
     "checksum": "0b86b2d207ec073e816591e2f74294f4",
     "grade": false,
     "grade_id": "cell-b3f3790388a0152c",
     "locked": true,
     "schema_version": 1,
     "solution": false
    }
   },
   "source": [
    "With the `svd_transformed_rating` function, we can calculate the transformed matrix through the following command."
   ]
  },
  {
   "cell_type": "code",
   "execution_count": null,
   "metadata": {},
   "outputs": [],
   "source": [
    "rating_matrix_d2 = svd_transformed_rating(rating_df, 2)\n",
    "# You can uncomment the following line to view the result\n",
    "# rating_matrix_d2"
   ]
  },
  {
   "cell_type": "code",
   "execution_count": null,
   "metadata": {
    "deletable": false,
    "editable": false,
    "nbgrader": {
     "checksum": "b3344433d747c07798711e105f144539",
     "grade": true,
     "grade_id": "cell-abfaa1e6400f27cc",
     "locked": true,
     "points": 15,
     "schema_version": 1,
     "solution": false
    }
   },
   "outputs": [],
   "source": [
    "# This code block tests if the `svd_transformed_rating` function is implemented correctly.\n",
    "# We hide some tests, so passing all the displayed assertions does not guarantee full points.\n",
    "\n",
    "rating_matrix_d2 = svd_transformed_rating(rating_df, 2)\n",
    "# d2_groundtruth is calculated via the following command:\n",
    "# d2_groundtruth = svd_transformed_rating(rating_df, 4)[:4]\n",
    "d2_groundtruth = np.array([[26.830835356   , -6.960033590895],\n",
    "                           [ 0.240134782174,  0.031972398386],\n",
    "                           [ 2.971341010574, -2.141467087847],\n",
    "                           [ 0.997482022276, -0.599895804555],\n",
    "                           [ 0.470445852682, -0.482343299048]])\n",
    "assert np.allclose(rating_matrix_d2[:5], d2_groundtruth)\n",
    "\n",
    "rating_matrix_d5 = svd_transformed_rating(rating_df, 5)\n",
    "d5_groundtruth = np.array([[26.828890919511, -6.950258673617,  1.515366172479, -3.295739836372,  4.157186247066],\n",
    "                           [ 0.24012936551 ,  0.031884190966, -0.018132185754, -0.166903622477, -0.028071803934],\n",
    "                           [ 2.9713046863  , -2.141818808721, -1.232252381363, -0.691324426529,  0.11961284882 ],\n",
    "                           [ 0.997484724453, -0.59970688578 , -0.107441873278,  0.047329773205,  0.160751420569],\n",
    "                           [ 0.470427947552, -0.482204394535,  0.062480138124, -0.238280610506,  0.055425249737]])\n",
    "assert np.allclose(rating_matrix_d5[:5], d5_groundtruth)\n",
    "\n",
    "rating_matrix_transformed = svd_transformed_rating(rating_df, 100)\n",
    "assert rating_matrix_transformed.shape == (2770,100), \"The transformed matrix is of the wrong dimension.\"\n",
    "for i in range(100):\n",
    "    for j in range(i):\n",
    "        assert abs(rating_matrix_transformed.T[i].dot(rating_matrix_transformed.T[j])) < 1e-8, \\\n",
    "            \"The column vectors in X* should be orthogonal.\"\n"
   ]
  },
  {
   "cell_type": "markdown",
   "metadata": {
    "deletable": false,
    "editable": false,
    "nbgrader": {
     "checksum": "22611dff513f8dbca1886680f9723e72",
     "grade": false,
     "grade_id": "cell-be06b3194a45d621",
     "locked": true,
     "schema_version": 1,
     "solution": false
    }
   },
   "source": [
    "A quick note on the above test cell: Ideally, the first $k'$ columns should stay the same for any $k$ as long as $k > k'$. However, you may notice small differences in the test cell (e.g. 26.830835356 vs. 26.828890919511). This is because the `TruncatedSVD` API uses a randomized SVD solver to speed up the calculation, so the output may lose minor precision.\n",
    "\n",
    "As you can see, we even increased $k$ to 100, which is much larger than $k=2$ used in the document-word example. However, this is still much smaller than the 11,937 dimensions in the original rating matrix, and we shall soon see that these 100 dimensions have preserved most of the information in the original matrix."
   ]
  },
  {
   "cell_type": "markdown",
   "metadata": {
    "deletable": false,
    "editable": false,
    "nbgrader": {
     "checksum": "04a0657febd635c61bc61b824b44b168",
     "grade": false,
     "grade_id": "cell-ad14dcd9875dbe31",
     "locked": true,
     "schema_version": 1,
     "solution": false
    }
   },
   "source": [
    "### Exercise 6. (10 pts).\n",
    "This exercise is to help you examine the power of SVD. That is, we want to see how the 100-dimension vectors preserve much information from the 11,937-dimensional vectors. Indeed, we shall see that the similarity between vectors is preserved after the SVD transformation. To show that, we are going to combine several techniques we have learned so far, including vector similarity, patterns in matrix data, and itemset similarity.\n",
    "\n",
    "Please complete the following task:\n",
    "1. Complete the `find_max_dot_prod_restaurants` and the `find_max_dot_prod_restaurants_transformed` function. Each function returns the `business_id` of the top-$n$ restaurants that have the largest dot product with Modavie. The `find_max_dot_prod_restaurants` function calculates the dot product based on the raw vectors (11,937 dimensions). The  `find_max_dot_prod_restaurants_transformed` function calculates with the transformed vectors (100 dimensions). You may copy and paste `find_max_dot_prod_restaurants` from Part III of this assignment.\n",
    "2. Complete the `jaccard_similarity_before_after_svd_transform` function, which calculates the Jaccard similarity between the top-$n$ most similar restaurants (of course, this is an itemset!) before and after the SVD transformation.\n",
    "\n",
    "We have provided all the test cases to help you verify your results."
   ]
  },
  {
   "cell_type": "code",
   "execution_count": null,
   "metadata": {
    "deletable": false,
    "editable": false,
    "nbgrader": {
     "checksum": "c9f93adfb1fb7b438d9186a07e3d3779",
     "grade": false,
     "grade_id": "cell-bfb1b519868175c2",
     "locked": true,
     "schema_version": 1,
     "solution": false
    }
   },
   "outputs": [],
   "source": [
    "# This cell helps you prepare a new rating dataframe using the transformed vectors.\n",
    "rating_matrix_transformed = svd_transformed_rating(rating_df, 100)\n",
    "rating_df_transformed = pd.DataFrame(rating_matrix_transformed, index=rating_df.index)\n",
    "rating_df_transformed.head()"
   ]
  },
  {
   "cell_type": "code",
   "execution_count": null,
   "metadata": {
    "deletable": false,
    "nbgrader": {
     "checksum": "25bfe5ec1795a82685e3df801c151cfc",
     "grade": false,
     "grade_id": "cell-869be40842fc6655",
     "locked": false,
     "schema_version": 1,
     "solution": true
    }
   },
   "outputs": [],
   "source": [
    "def find_max_dot_prod_restaurants(top_n):\n",
    "    modavie_id = business_df[business_df.name.str.contains(\"Modavie\")].index[0]\n",
    "    modavie_vector = rating_df.loc[modavie_id]\n",
    "    # YOUR CODE HERE\n",
    "    raise NotImplementedError()\n",
    "\n",
    "def find_max_dot_prod_restaurants_transformed(top_n):\n",
    "    modavie_id = business_df[business_df.name.str.contains(\"Modavie\")].index[0]\n",
    "    modavie_vector_transformed = rating_df_transformed.loc[modavie_id]\n",
    "    # YOUR CODE HERE\n",
    "    raise NotImplementedError()"
   ]
  },
  {
   "cell_type": "code",
   "execution_count": null,
   "metadata": {
    "deletable": false,
    "editable": false,
    "nbgrader": {
     "checksum": "d9b81371764301742a8f39f1180a9765",
     "grade": false,
     "grade_id": "cell-0f103eb78bef9c48",
     "locked": true,
     "schema_version": 1,
     "solution": false
    }
   },
   "outputs": [],
   "source": [
    "# This code block help you verify if `find_max_dot_prod_restaurants_transformed` is implemented correctly.\n",
    "answer = find_max_dot_prod_restaurants_transformed(10)\n",
    "assert answer.iloc[0]['name'] == \"Schwartz's\"\n",
    "assert answer.iloc[1]['name'] == \"La Banquise\"\n",
    "assert answer.iloc[2]['name'] == \"Olive & Gourmando\"\n",
    "assert answer.iloc[3]['name'] == \"Maison Christian Faure\"\n",
    "assert answer.iloc[4]['name'] == \"Reuben's Deli & Steakhouse\"\n",
    "\n",
    "assert answer.iloc[5]['name'] == \"Kazu\"\n",
    "assert answer.iloc[6]['name'] == \"Belon\"\n",
    "assert answer.iloc[7]['name'] == \"Au Pied de Cochon\"\n",
    "assert answer.iloc[8]['name'] == \"L'Avenue\"\n",
    "assert answer.iloc[9]['name'] == \"Poutineville\""
   ]
  },
  {
   "cell_type": "code",
   "execution_count": null,
   "metadata": {
    "deletable": false,
    "nbgrader": {
     "checksum": "2342db833158a188942177912e32b339",
     "grade": false,
     "grade_id": "cell-e0ba9761d388a56b",
     "locked": false,
     "schema_version": 1,
     "solution": true
    }
   },
   "outputs": [],
   "source": [
    "def jaccard_similarity_before_after_svd_transform(top_n):\n",
    "    max_sim_restaurants = find_max_dot_prod_restaurants(top_n)\n",
    "    max_sim_restaurants_transformed = find_max_dot_prod_restaurants_transformed(top_n)\n",
    "    # construct the set of the names of the most similar restaurants\n",
    "    business_id_before = set(max_sim_restaurants.name)\n",
    "    business_id_after = set(max_sim_restaurants_transformed.name)\n",
    "    # compute the Jaccard similarity between the two set and return the Jaccard similarity\n",
    "    \n",
    "    # YOUR CODE HERE\n",
    "    raise NotImplementedError()\n",
    "    \n",
    "    return jaccard_similarity"
   ]
  },
  {
   "cell_type": "code",
   "execution_count": null,
   "metadata": {
    "deletable": false,
    "editable": false,
    "nbgrader": {
     "checksum": "b65a84bc3804b530766e075f70273c36",
     "grade": true,
     "grade_id": "cell-cbb0be3036729dff",
     "locked": true,
     "points": 10,
     "schema_version": 1,
     "solution": false
    }
   },
   "outputs": [],
   "source": [
    "# This code block checks `find_max_dot_prod_restaurants`, `find_max_dot_prod_restaurants_transformed`, \n",
    "# and 'jaccard_similarity_before_after_svd_transform'. You should get the correct answer if all three \n",
    "# functions are implemented correctly.\n",
    "# We hide some tests, so passing all the displayed assertions does not guarantee full points.\n",
    "\n",
    "assert abs(jaccard_similarity_before_after_svd_transform(5) - 1) < 1e-8\n",
    "assert abs(jaccard_similarity_before_after_svd_transform(10) - 0.8181818181818182) < 1e-8\n",
    "assert abs(jaccard_similarity_before_after_svd_transform(2770) - 1) < 1e-8\n"
   ]
  },
  {
   "cell_type": "markdown",
   "metadata": {
    "deletable": false,
    "editable": false,
    "nbgrader": {
     "checksum": "5c683c245e696cb5c11e7c96edfd9183",
     "grade": false,
     "grade_id": "cell-184454d9a2f45081",
     "locked": true,
     "schema_version": 1,
     "solution": false
    }
   },
   "source": [
    "As you can see, you can perform many tasks on the transformed vectors just as what you can do on the raw vectors. Since the transformed vectors have far fewer dimensions, the efficiency is much higher with the transformed vectors. Beyond efficiency, dimension reduction has many other benefits for dealing with matrix data.  You will learn these in the downstream machine learning classes, but let's stop here for now.  Matrix analysis has lots of applications in recommender systems.  We will revisit some of these techniques when that topic comes up.  \n",
    "\n",
    "This concludes this assignment."
   ]
  }
 ],
 "metadata": {
  "coursera": {
   "schema_names": [
    "mads_data_mining_i_v2_assignment3_part4"
   ]
  },
  "kernelspec": {
   "display_name": "Python 3",
   "language": "python",
   "name": "python3"
  },
  "language_info": {
   "codemirror_mode": {
    "name": "ipython",
    "version": 3
   },
   "file_extension": ".py",
   "mimetype": "text/x-python",
   "name": "python",
   "nbconvert_exporter": "python",
   "pygments_lexer": "ipython3",
   "version": "3.7.3"
  }
 },
 "nbformat": 4,
 "nbformat_minor": 2
}
