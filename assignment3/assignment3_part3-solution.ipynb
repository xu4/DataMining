{
 "cells": [
  {
   "cell_type": "code",
   "execution_count": 2,
   "metadata": {
    "deletable": false,
    "editable": false,
    "nbgrader": {
     "checksum": "db956c4a215af7165dc2d29eb08b4fd5",
     "grade": false,
     "grade_id": "cell-01899954b738b50a",
     "locked": true,
     "schema_version": 1,
     "solution": false
    }
   },
   "outputs": [],
   "source": [
    "version = \"v2.2.033020\""
   ]
  },
  {
   "cell_type": "markdown",
   "metadata": {
    "deletable": false,
    "editable": false,
    "nbgrader": {
     "checksum": "d275cdf4eef70b8a0ddd56ae6d0aa541",
     "grade": false,
     "grade_id": "cell-66858e251dee6d30",
     "locked": true,
     "schema_version": 1,
     "solution": false
    }
   },
   "source": [
    "# Assignment 3: Mining Vectors and Matrices (Part III)\n",
    "\n",
    "In Part II of the assignment, we have implemented a few similarity/distance functions. In part III, we will see how can we use them to analyze our restaurant rating data.\n",
    "\n",
    "Let's first import the necessary packages and dependencies and load the dataset prepared in Part I of this assignment."
   ]
  },
  {
   "cell_type": "code",
   "execution_count": 3,
   "metadata": {
    "deletable": false,
    "editable": false,
    "nbgrader": {
     "checksum": "7adab2f53c7bf78f2e3eeeca54fca671",
     "grade": false,
     "grade_id": "cell-628157ab9125513f",
     "locked": true,
     "schema_version": 1,
     "solution": false
    }
   },
   "outputs": [
    {
     "data": {
      "text/html": [
       "<div>\n",
       "<style scoped>\n",
       "    .dataframe tbody tr th:only-of-type {\n",
       "        vertical-align: middle;\n",
       "    }\n",
       "\n",
       "    .dataframe tbody tr th {\n",
       "        vertical-align: top;\n",
       "    }\n",
       "\n",
       "    .dataframe thead th {\n",
       "        text-align: right;\n",
       "    }\n",
       "</style>\n",
       "<table border=\"1\" class=\"dataframe\">\n",
       "  <thead>\n",
       "    <tr style=\"text-align: right;\">\n",
       "      <th></th>\n",
       "      <th>name</th>\n",
       "      <th>categories</th>\n",
       "      <th>stars</th>\n",
       "      <th>postal_code</th>\n",
       "    </tr>\n",
       "    <tr>\n",
       "      <th>business_id</th>\n",
       "      <th></th>\n",
       "      <th></th>\n",
       "      <th></th>\n",
       "      <th></th>\n",
       "    </tr>\n",
       "  </thead>\n",
       "  <tbody>\n",
       "    <tr>\n",
       "      <th>-1xuC540Nycht_iWFeJ-dw</th>\n",
       "      <td>Romados</td>\n",
       "      <td>Restaurants, Portuguese, Bakeries, Food, Chick...</td>\n",
       "      <td>4.5</td>\n",
       "      <td>H2W 1C8</td>\n",
       "    </tr>\n",
       "    <tr>\n",
       "      <th>-7bRnaHp7OHz8KW-THqP4w</th>\n",
       "      <td>Buffalo Bill Wings</td>\n",
       "      <td>Restaurants, Chicken Wings</td>\n",
       "      <td>1.5</td>\n",
       "      <td>H4C 1G7</td>\n",
       "    </tr>\n",
       "    <tr>\n",
       "      <th>-92cC6-X87HQ1DE1UHOx3w</th>\n",
       "      <td>Junior</td>\n",
       "      <td>Pan Asian, Restaurants, Asian Fusion, Filipino</td>\n",
       "      <td>3.5</td>\n",
       "      <td>H3J 1M8</td>\n",
       "    </tr>\n",
       "    <tr>\n",
       "      <th>-AgfhwHOYrsPKt-_xV_Ipg</th>\n",
       "      <td>Soupesoup</td>\n",
       "      <td>Sandwiches, Restaurants, Cafes, Soup</td>\n",
       "      <td>4.0</td>\n",
       "      <td>H2W 1G8</td>\n",
       "    </tr>\n",
       "    <tr>\n",
       "      <th>-FDkvLmwaBrtVgYFqEWeWA</th>\n",
       "      <td>Café Juicy Lotus</td>\n",
       "      <td>Vegetarian, Food, Salad, Restaurants, Organic ...</td>\n",
       "      <td>3.5</td>\n",
       "      <td>H4A 1C9</td>\n",
       "    </tr>\n",
       "  </tbody>\n",
       "</table>\n",
       "</div>"
      ],
      "text/plain": [
       "                                      name  \\\n",
       "business_id                                  \n",
       "-1xuC540Nycht_iWFeJ-dw             Romados   \n",
       "-7bRnaHp7OHz8KW-THqP4w  Buffalo Bill Wings   \n",
       "-92cC6-X87HQ1DE1UHOx3w              Junior   \n",
       "-AgfhwHOYrsPKt-_xV_Ipg           Soupesoup   \n",
       "-FDkvLmwaBrtVgYFqEWeWA    Café Juicy Lotus   \n",
       "\n",
       "                                                               categories  \\\n",
       "business_id                                                                 \n",
       "-1xuC540Nycht_iWFeJ-dw  Restaurants, Portuguese, Bakeries, Food, Chick...   \n",
       "-7bRnaHp7OHz8KW-THqP4w                         Restaurants, Chicken Wings   \n",
       "-92cC6-X87HQ1DE1UHOx3w     Pan Asian, Restaurants, Asian Fusion, Filipino   \n",
       "-AgfhwHOYrsPKt-_xV_Ipg               Sandwiches, Restaurants, Cafes, Soup   \n",
       "-FDkvLmwaBrtVgYFqEWeWA  Vegetarian, Food, Salad, Restaurants, Organic ...   \n",
       "\n",
       "                        stars postal_code  \n",
       "business_id                                \n",
       "-1xuC540Nycht_iWFeJ-dw    4.5     H2W 1C8  \n",
       "-7bRnaHp7OHz8KW-THqP4w    1.5     H4C 1G7  \n",
       "-92cC6-X87HQ1DE1UHOx3w    3.5     H3J 1M8  \n",
       "-AgfhwHOYrsPKt-_xV_Ipg    4.0     H2W 1G8  \n",
       "-FDkvLmwaBrtVgYFqEWeWA    3.5     H4A 1C9  "
      ]
     },
     "execution_count": 3,
     "metadata": {},
     "output_type": "execute_result"
    }
   ],
   "source": [
    "import pandas as pd\n",
    "import numpy as np\n",
    "\n",
    "business_df = pd.read_csv('assets/montreal_business.csv')\n",
    "business_df.set_index('business_id', inplace=True)\n",
    "\n",
    "review_df = pd.read_csv('assets/montreal_user.csv')\n",
    "rating_df = review_df.pivot_table(index=['business_id'], columns=['user_id'], values='stars')\n",
    "rating_df.fillna(0, inplace=True)\n",
    "\n",
    "missing_business_id = set(business_df.index) - set(rating_df.index)\n",
    "business_df.drop(missing_business_id, inplace=True)\n",
    "\n",
    "business_df.head()"
   ]
  },
  {
   "cell_type": "code",
   "execution_count": 4,
   "metadata": {
    "deletable": false,
    "editable": false,
    "nbgrader": {
     "checksum": "29f8114b1ca71ac02bd165ea60a92242",
     "grade": false,
     "grade_id": "cell-207e05a3240c0bfb",
     "locked": true,
     "schema_version": 1,
     "solution": false
    }
   },
   "outputs": [
    {
     "data": {
      "text/html": [
       "<div>\n",
       "<style scoped>\n",
       "    .dataframe tbody tr th:only-of-type {\n",
       "        vertical-align: middle;\n",
       "    }\n",
       "\n",
       "    .dataframe tbody tr th {\n",
       "        vertical-align: top;\n",
       "    }\n",
       "\n",
       "    .dataframe thead th {\n",
       "        text-align: right;\n",
       "    }\n",
       "</style>\n",
       "<table border=\"1\" class=\"dataframe\">\n",
       "  <thead>\n",
       "    <tr style=\"text-align: right;\">\n",
       "      <th>user_id</th>\n",
       "      <th>--BumyUHiO_7YsHurb9Hkw</th>\n",
       "      <th>--NIc98RMssgy0mSZL3vpA</th>\n",
       "      <th>-0zUpn_6kTWXHWzB85u7yA</th>\n",
       "      <th>-1MF2tosrw2WcCxeVNk81Q</th>\n",
       "      <th>-1wbglcr6x1qrUbqP1YAIA</th>\n",
       "      <th>-3gey5u7j0qj5SZNrOHIQg</th>\n",
       "      <th>-3s52C4zL_DHRK0ULG6qtg</th>\n",
       "      <th>-3uRUjmr1uEn-lLrhwRMCg</th>\n",
       "      <th>-4pYtFJbZYzKqmiOjGr4ag</th>\n",
       "      <th>-4tyD87vW73HG0mQlXk0uw</th>\n",
       "      <th>...</th>\n",
       "      <th>zwOiJvD09N1dNf-ts7wscw</th>\n",
       "      <th>zwsVQwyxkz-s4rvBCaPyZw</th>\n",
       "      <th>zyLIp7DRFqeIE1Grrh3Zng</th>\n",
       "      <th>zyYWUdaodH0h1jCZAvFRPg</th>\n",
       "      <th>zyaQNsI73cLOKttvGnj4bw</th>\n",
       "      <th>zyg4-MFtfPWmwucVazSjfw</th>\n",
       "      <th>zzKsgIF472IyDpJxmHDIpw</th>\n",
       "      <th>zzgb9L3NBT9V8BGw_DcVYw</th>\n",
       "      <th>zznMmC74DNBcBG62gj3guA</th>\n",
       "      <th>zzo--VpSQh8PpsGVeMC1dQ</th>\n",
       "    </tr>\n",
       "    <tr>\n",
       "      <th>business_id</th>\n",
       "      <th></th>\n",
       "      <th></th>\n",
       "      <th></th>\n",
       "      <th></th>\n",
       "      <th></th>\n",
       "      <th></th>\n",
       "      <th></th>\n",
       "      <th></th>\n",
       "      <th></th>\n",
       "      <th></th>\n",
       "      <th></th>\n",
       "      <th></th>\n",
       "      <th></th>\n",
       "      <th></th>\n",
       "      <th></th>\n",
       "      <th></th>\n",
       "      <th></th>\n",
       "      <th></th>\n",
       "      <th></th>\n",
       "      <th></th>\n",
       "      <th></th>\n",
       "    </tr>\n",
       "  </thead>\n",
       "  <tbody>\n",
       "    <tr>\n",
       "      <th>-1xuC540Nycht_iWFeJ-dw</th>\n",
       "      <td>0.0</td>\n",
       "      <td>0.0</td>\n",
       "      <td>0.0</td>\n",
       "      <td>0.0</td>\n",
       "      <td>0.0</td>\n",
       "      <td>0.0</td>\n",
       "      <td>0.0</td>\n",
       "      <td>0.0</td>\n",
       "      <td>0.0</td>\n",
       "      <td>0.0</td>\n",
       "      <td>...</td>\n",
       "      <td>0.0</td>\n",
       "      <td>0.0</td>\n",
       "      <td>0.0</td>\n",
       "      <td>0.0</td>\n",
       "      <td>0.0</td>\n",
       "      <td>0.0</td>\n",
       "      <td>0.0</td>\n",
       "      <td>0.0</td>\n",
       "      <td>0.0</td>\n",
       "      <td>0.0</td>\n",
       "    </tr>\n",
       "    <tr>\n",
       "      <th>-7bRnaHp7OHz8KW-THqP4w</th>\n",
       "      <td>0.0</td>\n",
       "      <td>0.0</td>\n",
       "      <td>0.0</td>\n",
       "      <td>0.0</td>\n",
       "      <td>0.0</td>\n",
       "      <td>0.0</td>\n",
       "      <td>0.0</td>\n",
       "      <td>0.0</td>\n",
       "      <td>0.0</td>\n",
       "      <td>0.0</td>\n",
       "      <td>...</td>\n",
       "      <td>0.0</td>\n",
       "      <td>0.0</td>\n",
       "      <td>0.0</td>\n",
       "      <td>0.0</td>\n",
       "      <td>0.0</td>\n",
       "      <td>0.0</td>\n",
       "      <td>0.0</td>\n",
       "      <td>0.0</td>\n",
       "      <td>0.0</td>\n",
       "      <td>0.0</td>\n",
       "    </tr>\n",
       "    <tr>\n",
       "      <th>-92cC6-X87HQ1DE1UHOx3w</th>\n",
       "      <td>0.0</td>\n",
       "      <td>0.0</td>\n",
       "      <td>0.0</td>\n",
       "      <td>0.0</td>\n",
       "      <td>0.0</td>\n",
       "      <td>0.0</td>\n",
       "      <td>0.0</td>\n",
       "      <td>0.0</td>\n",
       "      <td>0.0</td>\n",
       "      <td>0.0</td>\n",
       "      <td>...</td>\n",
       "      <td>0.0</td>\n",
       "      <td>0.0</td>\n",
       "      <td>0.0</td>\n",
       "      <td>0.0</td>\n",
       "      <td>0.0</td>\n",
       "      <td>0.0</td>\n",
       "      <td>0.0</td>\n",
       "      <td>0.0</td>\n",
       "      <td>0.0</td>\n",
       "      <td>0.0</td>\n",
       "    </tr>\n",
       "    <tr>\n",
       "      <th>-AgfhwHOYrsPKt-_xV_Ipg</th>\n",
       "      <td>0.0</td>\n",
       "      <td>0.0</td>\n",
       "      <td>0.0</td>\n",
       "      <td>0.0</td>\n",
       "      <td>0.0</td>\n",
       "      <td>0.0</td>\n",
       "      <td>0.0</td>\n",
       "      <td>0.0</td>\n",
       "      <td>0.0</td>\n",
       "      <td>0.0</td>\n",
       "      <td>...</td>\n",
       "      <td>0.0</td>\n",
       "      <td>0.0</td>\n",
       "      <td>0.0</td>\n",
       "      <td>0.0</td>\n",
       "      <td>0.0</td>\n",
       "      <td>0.0</td>\n",
       "      <td>0.0</td>\n",
       "      <td>0.0</td>\n",
       "      <td>0.0</td>\n",
       "      <td>0.0</td>\n",
       "    </tr>\n",
       "    <tr>\n",
       "      <th>-FDkvLmwaBrtVgYFqEWeWA</th>\n",
       "      <td>0.0</td>\n",
       "      <td>0.0</td>\n",
       "      <td>0.0</td>\n",
       "      <td>0.0</td>\n",
       "      <td>0.0</td>\n",
       "      <td>0.0</td>\n",
       "      <td>0.0</td>\n",
       "      <td>0.0</td>\n",
       "      <td>0.0</td>\n",
       "      <td>0.0</td>\n",
       "      <td>...</td>\n",
       "      <td>0.0</td>\n",
       "      <td>0.0</td>\n",
       "      <td>0.0</td>\n",
       "      <td>0.0</td>\n",
       "      <td>0.0</td>\n",
       "      <td>0.0</td>\n",
       "      <td>0.0</td>\n",
       "      <td>0.0</td>\n",
       "      <td>0.0</td>\n",
       "      <td>0.0</td>\n",
       "    </tr>\n",
       "  </tbody>\n",
       "</table>\n",
       "<p>5 rows × 11937 columns</p>\n",
       "</div>"
      ],
      "text/plain": [
       "user_id                 --BumyUHiO_7YsHurb9Hkw  --NIc98RMssgy0mSZL3vpA  \\\n",
       "business_id                                                              \n",
       "-1xuC540Nycht_iWFeJ-dw                     0.0                     0.0   \n",
       "-7bRnaHp7OHz8KW-THqP4w                     0.0                     0.0   \n",
       "-92cC6-X87HQ1DE1UHOx3w                     0.0                     0.0   \n",
       "-AgfhwHOYrsPKt-_xV_Ipg                     0.0                     0.0   \n",
       "-FDkvLmwaBrtVgYFqEWeWA                     0.0                     0.0   \n",
       "\n",
       "user_id                 -0zUpn_6kTWXHWzB85u7yA  -1MF2tosrw2WcCxeVNk81Q  \\\n",
       "business_id                                                              \n",
       "-1xuC540Nycht_iWFeJ-dw                     0.0                     0.0   \n",
       "-7bRnaHp7OHz8KW-THqP4w                     0.0                     0.0   \n",
       "-92cC6-X87HQ1DE1UHOx3w                     0.0                     0.0   \n",
       "-AgfhwHOYrsPKt-_xV_Ipg                     0.0                     0.0   \n",
       "-FDkvLmwaBrtVgYFqEWeWA                     0.0                     0.0   \n",
       "\n",
       "user_id                 -1wbglcr6x1qrUbqP1YAIA  -3gey5u7j0qj5SZNrOHIQg  \\\n",
       "business_id                                                              \n",
       "-1xuC540Nycht_iWFeJ-dw                     0.0                     0.0   \n",
       "-7bRnaHp7OHz8KW-THqP4w                     0.0                     0.0   \n",
       "-92cC6-X87HQ1DE1UHOx3w                     0.0                     0.0   \n",
       "-AgfhwHOYrsPKt-_xV_Ipg                     0.0                     0.0   \n",
       "-FDkvLmwaBrtVgYFqEWeWA                     0.0                     0.0   \n",
       "\n",
       "user_id                 -3s52C4zL_DHRK0ULG6qtg  -3uRUjmr1uEn-lLrhwRMCg  \\\n",
       "business_id                                                              \n",
       "-1xuC540Nycht_iWFeJ-dw                     0.0                     0.0   \n",
       "-7bRnaHp7OHz8KW-THqP4w                     0.0                     0.0   \n",
       "-92cC6-X87HQ1DE1UHOx3w                     0.0                     0.0   \n",
       "-AgfhwHOYrsPKt-_xV_Ipg                     0.0                     0.0   \n",
       "-FDkvLmwaBrtVgYFqEWeWA                     0.0                     0.0   \n",
       "\n",
       "user_id                 -4pYtFJbZYzKqmiOjGr4ag  -4tyD87vW73HG0mQlXk0uw  ...  \\\n",
       "business_id                                                             ...   \n",
       "-1xuC540Nycht_iWFeJ-dw                     0.0                     0.0  ...   \n",
       "-7bRnaHp7OHz8KW-THqP4w                     0.0                     0.0  ...   \n",
       "-92cC6-X87HQ1DE1UHOx3w                     0.0                     0.0  ...   \n",
       "-AgfhwHOYrsPKt-_xV_Ipg                     0.0                     0.0  ...   \n",
       "-FDkvLmwaBrtVgYFqEWeWA                     0.0                     0.0  ...   \n",
       "\n",
       "user_id                 zwOiJvD09N1dNf-ts7wscw  zwsVQwyxkz-s4rvBCaPyZw  \\\n",
       "business_id                                                              \n",
       "-1xuC540Nycht_iWFeJ-dw                     0.0                     0.0   \n",
       "-7bRnaHp7OHz8KW-THqP4w                     0.0                     0.0   \n",
       "-92cC6-X87HQ1DE1UHOx3w                     0.0                     0.0   \n",
       "-AgfhwHOYrsPKt-_xV_Ipg                     0.0                     0.0   \n",
       "-FDkvLmwaBrtVgYFqEWeWA                     0.0                     0.0   \n",
       "\n",
       "user_id                 zyLIp7DRFqeIE1Grrh3Zng  zyYWUdaodH0h1jCZAvFRPg  \\\n",
       "business_id                                                              \n",
       "-1xuC540Nycht_iWFeJ-dw                     0.0                     0.0   \n",
       "-7bRnaHp7OHz8KW-THqP4w                     0.0                     0.0   \n",
       "-92cC6-X87HQ1DE1UHOx3w                     0.0                     0.0   \n",
       "-AgfhwHOYrsPKt-_xV_Ipg                     0.0                     0.0   \n",
       "-FDkvLmwaBrtVgYFqEWeWA                     0.0                     0.0   \n",
       "\n",
       "user_id                 zyaQNsI73cLOKttvGnj4bw  zyg4-MFtfPWmwucVazSjfw  \\\n",
       "business_id                                                              \n",
       "-1xuC540Nycht_iWFeJ-dw                     0.0                     0.0   \n",
       "-7bRnaHp7OHz8KW-THqP4w                     0.0                     0.0   \n",
       "-92cC6-X87HQ1DE1UHOx3w                     0.0                     0.0   \n",
       "-AgfhwHOYrsPKt-_xV_Ipg                     0.0                     0.0   \n",
       "-FDkvLmwaBrtVgYFqEWeWA                     0.0                     0.0   \n",
       "\n",
       "user_id                 zzKsgIF472IyDpJxmHDIpw  zzgb9L3NBT9V8BGw_DcVYw  \\\n",
       "business_id                                                              \n",
       "-1xuC540Nycht_iWFeJ-dw                     0.0                     0.0   \n",
       "-7bRnaHp7OHz8KW-THqP4w                     0.0                     0.0   \n",
       "-92cC6-X87HQ1DE1UHOx3w                     0.0                     0.0   \n",
       "-AgfhwHOYrsPKt-_xV_Ipg                     0.0                     0.0   \n",
       "-FDkvLmwaBrtVgYFqEWeWA                     0.0                     0.0   \n",
       "\n",
       "user_id                 zznMmC74DNBcBG62gj3guA  zzo--VpSQh8PpsGVeMC1dQ  \n",
       "business_id                                                             \n",
       "-1xuC540Nycht_iWFeJ-dw                     0.0                     0.0  \n",
       "-7bRnaHp7OHz8KW-THqP4w                     0.0                     0.0  \n",
       "-92cC6-X87HQ1DE1UHOx3w                     0.0                     0.0  \n",
       "-AgfhwHOYrsPKt-_xV_Ipg                     0.0                     0.0  \n",
       "-FDkvLmwaBrtVgYFqEWeWA                     0.0                     0.0  \n",
       "\n",
       "[5 rows x 11937 columns]"
      ]
     },
     "execution_count": 4,
     "metadata": {},
     "output_type": "execute_result"
    }
   ],
   "source": [
    "rating_df.head(5)"
   ]
  },
  {
   "cell_type": "markdown",
   "metadata": {
    "deletable": false,
    "editable": false,
    "nbgrader": {
     "checksum": "dc05dad22734ec2bcfc803b6f6c3cef2",
     "grade": false,
     "grade_id": "cell-8aa37d20afe10bdb",
     "locked": true,
     "schema_version": 1,
     "solution": false
    }
   },
   "source": [
    "Suppose one of my favorite restaurants in Montréal is named *Modavie*, and I want to know how similar (in terms of customer ratings) it is compared to other restaurants. Let's see how we can do it."
   ]
  },
  {
   "cell_type": "code",
   "execution_count": 5,
   "metadata": {
    "deletable": false,
    "editable": false,
    "nbgrader": {
     "checksum": "552d637d91860736fb2fa695fb774784",
     "grade": false,
     "grade_id": "cell-8a6ae5f97ae8f655",
     "locked": true,
     "schema_version": 1,
     "solution": false
    }
   },
   "outputs": [
    {
     "name": "stdout",
     "output_type": "stream",
     "text": [
      "QeFsIMcIFIJcOrpthYL8jg\n"
     ]
    }
   ],
   "source": [
    "modavie_id = business_df[business_df.name.str.contains(\"Modavie\")].index[0]\n",
    "print(modavie_id)"
   ]
  },
  {
   "cell_type": "markdown",
   "metadata": {
    "deletable": false,
    "editable": false,
    "nbgrader": {
     "checksum": "f1cc34483fb02e8eed938d8751615124",
     "grade": false,
     "grade_id": "cell-8235ec54f7699119",
     "locked": true,
     "schema_version": 1,
     "solution": false
    }
   },
   "source": [
    "This is a sanity check that restaurant \"Modavie\" does exist in our dataset. "
   ]
  },
  {
   "cell_type": "markdown",
   "metadata": {
    "deletable": false,
    "editable": false,
    "nbgrader": {
     "checksum": "f18758f0228023dfea1571e1c412a62d",
     "grade": false,
     "grade_id": "cell-099ad6833ca9e5bd",
     "locked": true,
     "schema_version": 1,
     "solution": false
    }
   },
   "source": [
    "### Exercise 3. Find similar restaurants (15 pts)\n",
    "Once we have a similarity metric implemented, we can use it to find the most similar vectors. In this case, can you find out which restaurants are most similar to Modavie based on dot product? \n",
    "\n",
    "More specifically, can you implement the `find_max_dot_prod_restaurants` function to return the business_id of five restaurants that have the **largest** dot product with Modavie?\n",
    "\n",
    "To do this, you need to compute the dot product between every restaurant and Modavie, and store the dot products as a seperate column named `modavie_dot_prod` on the `business_df` dataframe. Then, you should output the five rows with the largest dot product (ranked in decreasing order and excluding Modavie itself). \n",
    "\n",
    "**HINT 1** You may refer to Assignment 2(Part V) Jaccard Similarity to think about how to calculate the similarity scores for all restaurants.\n",
    "\n",
    "**HINT 2** Use `np.dot` (instead of implementing your own dot product) to **greatly** speed up the execution."
   ]
  },
  {
   "cell_type": "code",
   "execution_count": 6,
   "metadata": {
    "deletable": false,
    "nbgrader": {
     "checksum": "089a6722380aee30ae67266a3ffe0db9",
     "grade": false,
     "grade_id": "cell-b54cefee95496e66",
     "locked": false,
     "schema_version": 1,
     "solution": true
    }
   },
   "outputs": [],
   "source": [
    "def find_max_dot_prod_restaurants(top_n):\n",
    "    #global rating_df, business_df\n",
    "    modavie_vector = rating_df.loc[modavie_id]\n",
    "    modavie_dot_prod = {}\n",
    "    for i in range(rating_df.shape[0]):\n",
    "        modavie_dot_prod[rating_df.index[i]] = np.dot(modavie_vector, rating_df.iloc[i])\n",
    "    \n",
    "    dot_prod_df = pd.DataFrame(modavie_dot_prod.items(), columns=['business_id', 'modavie_dot_prod'])\n",
    "    dot_prod_df.set_index('business_id', inplace=True)\n",
    "\n",
    "    business_df_cp = business_df.copy()\n",
    "    business_df_cp = business_df_cp.join(dot_prod_df)\n",
    "    business_df_cp = business_df_cp.sort_values(by='modavie_dot_prod', ascending=False)\n",
    "    \n",
    "    return business_df_cp[1:top_n+1]"
   ]
  },
  {
   "cell_type": "markdown",
   "metadata": {
    "deletable": false,
    "editable": false,
    "nbgrader": {
     "checksum": "b5b1b218470d34ffc7adce48536baf19",
     "grade": false,
     "grade_id": "cell-b00d28d3696586fa",
     "locked": true,
     "schema_version": 1,
     "solution": false
    }
   },
   "source": [
    "We have provided the correct answers for you to verify your solution, if your code takes more than a few seconds to execute, please double check to ensure you are using `np.dot` instead of our DIY-ed `dot_prod`."
   ]
  },
  {
   "cell_type": "code",
   "execution_count": 7,
   "metadata": {
    "deletable": false,
    "editable": false,
    "nbgrader": {
     "checksum": "68f1f36a149737806b352ab48b9ed2a5",
     "grade": false,
     "grade_id": "cell-c920c29fcafdcdf5",
     "locked": true,
     "schema_version": 1,
     "solution": false
    }
   },
   "outputs": [
    {
     "data": {
      "text/plain": [
       "business_id\n",
       "0W4lkclzZThpx3V65bVgig                    Schwartz's\n",
       "5T6kFKFycym_GkhgOiysIw                   La Banquise\n",
       "46Ld9Qc9nAx_A0jwclNZiw             Olive & Gourmando\n",
       "s2I_Ni76bjJNK9yG60iD-Q        Maison Christian Faure\n",
       "wl6w2VNMA4g6O9lu7kTvFA    Reuben's Deli & Steakhouse\n",
       "wzugmCevnXuCMCF4upAf0w                          Kazu\n",
       "cKdox2gt3L1Dbb7MpOPdWg             Au Pied de Cochon\n",
       "9KmvrnyjWTr4sly0Dt770g                 Jardin Nelson\n",
       "J6qWt6XIUmIGFHX5rQJA-w                      L'Avenue\n",
       "2wFSVah7gU9ImNuBHwIaDg                         Belon\n",
       "Name: name, dtype: object"
      ]
     },
     "execution_count": 7,
     "metadata": {},
     "output_type": "execute_result"
    }
   ],
   "source": [
    "max_sim_restaurants = find_max_dot_prod_restaurants(10)\n",
    "max_sim_restaurants.name"
   ]
  },
  {
   "cell_type": "code",
   "execution_count": 8,
   "metadata": {
    "deletable": false,
    "editable": false,
    "nbgrader": {
     "checksum": "b7fccad8d04b4fcdbb198584463f8c96",
     "grade": true,
     "grade_id": "cell-f72957ef426e186d",
     "locked": true,
     "points": 15,
     "schema_version": 1,
     "solution": false
    }
   },
   "outputs": [],
   "source": [
    "answer = find_max_dot_prod_restaurants(5)\n",
    "assert answer.iloc[0]['name'] == \"Schwartz's\"\n",
    "assert answer.iloc[1]['name'] == \"La Banquise\"\n",
    "assert answer.iloc[2]['name'] == \"Olive & Gourmando\"\n",
    "assert answer.iloc[3]['name'] == \"Maison Christian Faure\"\n",
    "assert answer.iloc[4]['name'] == \"Reuben's Deli & Steakhouse\""
   ]
  },
  {
   "cell_type": "markdown",
   "metadata": {
    "deletable": false,
    "editable": false,
    "nbgrader": {
     "checksum": "6403448976f7f567bbb22ad263bbe2e8",
     "grade": false,
     "grade_id": "cell-7c8e1107ef677105",
     "locked": true,
     "schema_version": 1,
     "solution": false
    }
   },
   "source": [
    "### Exercise 4. (10 pts)\n",
    "We can also characterize the similarity on a larger scale. In fact, we are curious to know if Modavie's good ratings are more similar to other local area restaurants or to other French restaurants.\n",
    "\n",
    "In this exercise, please calculate the average **cosine similarity** between Modavie and (1) other restaurants in the same local area (defined by the **first 3 digits** of the postal code), (2) other French restaurants (restaurants with \"French\" in its `categories`)\n",
    "\n",
    "**Note**:\n",
    "1. Canada postal code uses a \"AXB YCZ\" pattern, where A, B, and C represent letters and X, Y, and Z represent numbers. For this exercise, we will only use the first 3 digits of a zip code, that is, \"H2Y\" for Modavie.\n",
    "2.Again, you can see the wildness of real-world data: some food trucks are also listed as restaurants but they don't have fixed locations, let alone postal codes. For this exercise, we assume that they do not belong to any neighborhood.\n",
    "3. Modavie itself should be excluded from the calculation.\n",
    "4. We have prepared a NumPy-based `cosine_similarity` function for your convenience."
   ]
  },
  {
   "cell_type": "code",
   "execution_count": 9,
   "metadata": {
    "deletable": false,
    "editable": false,
    "nbgrader": {
     "checksum": "9b82bda00d2d462ef7046cfcf1e816df",
     "grade": false,
     "grade_id": "cell-6a4d1b775e05a95f",
     "locked": true,
     "schema_version": 1,
     "solution": false
    }
   },
   "outputs": [
    {
     "data": {
      "text/plain": [
       "'H2Y 1Y6'"
      ]
     },
     "execution_count": 9,
     "metadata": {},
     "output_type": "execute_result"
    }
   ],
   "source": [
    "business_df.loc[modavie_id].postal_code"
   ]
  },
  {
   "cell_type": "code",
   "execution_count": 10,
   "metadata": {
    "deletable": false,
    "nbgrader": {
     "checksum": "a32956f875352ec979d28ffc562191f1",
     "grade": false,
     "grade_id": "cell-5abc221ff5074456",
     "locked": false,
     "schema_version": 1,
     "solution": true
    }
   },
   "outputs": [],
   "source": [
    "def cosine_similarity(vec_x, vec_y):\n",
    "    return np.dot(vec_x, vec_y)/(np.linalg.norm(vec_x) * np.linalg.norm(vec_y))\n",
    "def similarity_with_local_restaurant():\n",
    "    modavie_vector = rating_df.loc[modavie_id]\n",
    "    business_local = list(business_df[(~business_df['postal_code'].isna()) & (business_df['postal_code'].str.contains('H2Y')) &(~business_df['name'].str.contains(\"Modavie\"))].index)\n",
    "    rating_local_df = rating_df.ix[business_local]\n",
    "    cosine_local_sum = 0\n",
    "\n",
    "    for i in range(len(business_local)):\n",
    "        cosine_local_sum += cosine_similarity(modavie_vector, rating_local_df.iloc[i])\n",
    "\n",
    "    avg_cos_sim_local =   cosine_local_sum/len(business_local) \n",
    "    \n",
    "    business_french = list(business_df[(~business_df['postal_code'].isna()) & (business_df['categories'].str.contains('French')) &(~business_df['name'].str.contains(\"Modavie\"))].index)\n",
    "    rating_french_df = rating_df.ix[business_french]\n",
    "\n",
    "    cosine_french_sum = 0\n",
    "\n",
    "    for i in range(len(business_french)):\n",
    "        cosine_french_sum += cosine_similarity(modavie_vector, rating_french_df.iloc[i])\n",
    "\n",
    "    avg_cos_sim_french =   cosine_french_sum/len(business_french) \n",
    "    return avg_cos_sim_local, avg_cos_sim_french"
   ]
  },
  {
   "cell_type": "code",
   "execution_count": 11,
   "metadata": {
    "deletable": false,
    "editable": false,
    "nbgrader": {
     "checksum": "dbed1d06d2bbb6d2fe38885b908f43b8",
     "grade": false,
     "grade_id": "cell-2c1f294161833c51",
     "locked": true,
     "schema_version": 1,
     "solution": false
    }
   },
   "outputs": [
    {
     "name": "stdout",
     "output_type": "stream",
     "text": [
      "0.019919428868434945 0.013618875603344313\n"
     ]
    }
   ],
   "source": [
    "avg_cos_sim_local, avg_cos_sim_french = similarity_with_local_restaurant()\n",
    "print(avg_cos_sim_local, avg_cos_sim_french)"
   ]
  },
  {
   "cell_type": "code",
   "execution_count": 12,
   "metadata": {
    "deletable": false,
    "editable": false,
    "nbgrader": {
     "checksum": "4660a2895383d48020390ab89b4e2762",
     "grade": true,
     "grade_id": "cell-2a7221a3b0e053d1",
     "locked": true,
     "points": 5,
     "schema_version": 1,
     "solution": false
    }
   },
   "outputs": [],
   "source": [
    "avg_cos_sim_local, avg_cos_sim_french = similarity_with_local_restaurant()\n",
    "assert abs(avg_cos_sim_local - 0.019919428868434952) < 1e-8, \"[Exercise 4] Wrong value for avg_cos_sim_local.\"\n"
   ]
  },
  {
   "cell_type": "code",
   "execution_count": 13,
   "metadata": {
    "deletable": false,
    "editable": false,
    "nbgrader": {
     "checksum": "09f957428ff7645526db7a526b1ad851",
     "grade": true,
     "grade_id": "cell-8f69f0d924b0057b",
     "locked": true,
     "points": 5,
     "schema_version": 1,
     "solution": false
    }
   },
   "outputs": [],
   "source": [
    "avg_cos_sim_local, avg_cos_sim_french = similarity_with_local_restaurant()\n",
    "assert abs(avg_cos_sim_french - 0.01361887560334431) < 1e-8, \"[Exercise 4] Wrong value for avg_cos_sim_french.\""
   ]
  },
  {
   "cell_type": "markdown",
   "metadata": {
    "deletable": false,
    "editable": false,
    "nbgrader": {
     "checksum": "5669811e6b9835a2e023d7f55e821046",
     "grade": false,
     "grade_id": "cell-65b546bfcaee4d16",
     "locked": true,
     "schema_version": 1,
     "solution": false
    }
   },
   "source": [
    "After this exercise, you should be able to compute the similarity between many data vectors and find the most similar vectors of a given vector. This can be used as the foundation of many advanced algorithms such as k-nearest neighbor classification, information retrieval, or clustering,  which are the core of search engines or recommender systems. Computing the average similarity to selected groups of vectors (e.g., French restaurants) also provides a powerful tool to get deeper understanding of the data and to generate new features for downstream machine learning tasks. We encourage you to try these similarity metrics on your own data sets. "
   ]
  }
 ],
 "metadata": {
  "coursera": {
   "schema_names": [
    "mads_data_mining_i_v2_assignment3_part3"
   ]
  },
  "kernelspec": {
   "display_name": "Python 3",
   "language": "python",
   "name": "python3"
  },
  "language_info": {
   "codemirror_mode": {
    "name": "ipython",
    "version": 3
   },
   "file_extension": ".py",
   "mimetype": "text/x-python",
   "name": "python",
   "nbconvert_exporter": "python",
   "pygments_lexer": "ipython3",
   "version": "3.7.3"
  }
 },
 "nbformat": 4,
 "nbformat_minor": 2
}
