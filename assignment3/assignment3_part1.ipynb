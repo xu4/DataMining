{
 "cells": [
  {
   "cell_type": "code",
   "execution_count": null,
   "metadata": {
    "deletable": false,
    "editable": false,
    "nbgrader": {
     "checksum": "97e82cbdc3f763ada60e119dbba1563e",
     "grade": false,
     "grade_id": "cell-ec7a75d5507d3436",
     "locked": true,
     "schema_version": 1,
     "solution": false
    }
   },
   "outputs": [],
   "source": [
    "version = \"v2.2.033020\""
   ]
  },
  {
   "cell_type": "markdown",
   "metadata": {
    "deletable": false,
    "editable": false,
    "nbgrader": {
     "checksum": "b5a7898ad15c33ccc5c56a8d225707a9",
     "grade": false,
     "grade_id": "cell-de885f85b1df61c0",
     "locked": true,
     "schema_version": 1,
     "solution": false
    }
   },
   "source": [
    "# Assignment 3: Mining Vectors and Matrices (Part I)\n",
    "\n",
    "Welcome to Assignment 3! In this assigment, you will be playing with vectors and matrices. Similar to itemsets, or other representations of data, we care about *similarity* and *patterns*, the two basic outputs of data mining and building blocks of advanced functionalities. Through this assignment, you will get hands-on experience to derive both similarity measurements and patterns with various vector and matrix operations.\n",
    "\n",
    "We have curated another real-world dataset for you -- restaurant ratings on Yelp. The original data set can be found [here](https://www.yelp.com/dataset). To make this assignment more trackable, we have preprocessed the data and only kept the restaurants in Montréal, Canada. As with all real-world problems, be sure to sanity-check the quality of the data and be ready to handle \"unexpected\" scenarios of the \"Wild Thing.\"\n",
    "\n",
    "In this assignment, you will: \n",
    "* Represent the dataset as a matrix and check the row and column vectors.\n",
    "* Implement various vector similarity/distance measures. \n",
    "* Find the top similar vectors to a given vector.\n",
    "* Compute SVD transformation of the Matrix/Vectors and analyze the vectors with reduced dimensionality. \n",
    "\n",
    "In Part I of the assignment, we will load the dataset, transform it into vector/matrix format, and perform necessary sanity checks. You only need to code very little in this part. Please run all the code blocks in order and read the descriptions carefully. \n",
    "\n",
    "First, let's import the packages and dependencies that will be used later."
   ]
  },
  {
   "cell_type": "code",
   "execution_count": null,
   "metadata": {
    "deletable": false,
    "editable": false,
    "nbgrader": {
     "checksum": "faadb1dbbc2d5189bd7e056f7ec6a048",
     "grade": false,
     "grade_id": "cell-57ed773235de41bc",
     "locked": true,
     "schema_version": 1,
     "solution": false
    }
   },
   "outputs": [],
   "source": [
    "import pandas as pd\n",
    "import numpy as np"
   ]
  },
  {
   "cell_type": "markdown",
   "metadata": {
    "deletable": false,
    "editable": false,
    "nbgrader": {
     "checksum": "9074f0491d97af04a10833f3e9eb71b0",
     "grade": false,
     "grade_id": "cell-cc02b1983311ccdd",
     "locked": true,
     "schema_version": 1,
     "solution": false
    }
   },
   "source": [
    "## Data Preprocessing\n",
    "Let's start by loading the data and preview the first few lines. We will use two data files. The montreal_business.csv file stores the attributes of the restaurants, and the montreal_rating.csv file stores the user ratings of the restaurants. Both businesses and users are assigned randomized string identifiers (business_id and user_id), as a common way to preserve the privacy of customers."
   ]
  },
  {
   "cell_type": "code",
   "execution_count": null,
   "metadata": {
    "deletable": false,
    "editable": false,
    "nbgrader": {
     "checksum": "db10167cf8156f5797ec75a72150a70f",
     "grade": false,
     "grade_id": "cell-37c836c940382fba",
     "locked": true,
     "schema_version": 1,
     "solution": false
    }
   },
   "outputs": [],
   "source": [
    "business_df = pd.read_csv('assets/montreal_business.csv')\n",
    "business_df.head()"
   ]
  },
  {
   "cell_type": "code",
   "execution_count": null,
   "metadata": {
    "deletable": false,
    "editable": false,
    "nbgrader": {
     "checksum": "2b8ce3d247248fe2d8e5487f9766e534",
     "grade": false,
     "grade_id": "cell-1f67237882d5347d",
     "locked": true,
     "schema_version": 1,
     "solution": false
    }
   },
   "outputs": [],
   "source": [
    "business_df.set_index('business_id', inplace=True)\n",
    "business_df.head()"
   ]
  },
  {
   "cell_type": "markdown",
   "metadata": {
    "deletable": false,
    "editable": false,
    "nbgrader": {
     "checksum": "5a9c9cd4fd7c32d82db2b2b8e9e2840f",
     "grade": false,
     "grade_id": "cell-c4bce3e344f230c3",
     "locked": true,
     "schema_version": 1,
     "solution": false
    }
   },
   "source": [
    "Every row is a restaurant, and the \"stars\" field stores the aggregated rating of all its customers.  Other fields should be self-explanatory. "
   ]
  },
  {
   "cell_type": "code",
   "execution_count": null,
   "metadata": {
    "deletable": false,
    "editable": false,
    "nbgrader": {
     "checksum": "e0a5a59e413a4a91c6ea5d44ffd5dc14",
     "grade": false,
     "grade_id": "cell-51706ceebd1eb16e",
     "locked": true,
     "schema_version": 1,
     "solution": false
    }
   },
   "outputs": [],
   "source": [
    "review_df = pd.read_csv('assets/montreal_user.csv')\n",
    "review_df.head()"
   ]
  },
  {
   "cell_type": "markdown",
   "metadata": {
    "deletable": false,
    "editable": false,
    "nbgrader": {
     "checksum": "1b67c30fda4b6c415bcf73246334ded3",
     "grade": false,
     "grade_id": "cell-e37d5e3dd7298210",
     "locked": true,
     "schema_version": 1,
     "solution": false
    }
   },
   "source": [
    "Every row in this user-rating data file corresponds to a restaurant-user pair, and the \"stars\" column stores the individual (unaggregated) score that users gave to that restaurant. "
   ]
  },
  {
   "cell_type": "markdown",
   "metadata": {
    "deletable": false,
    "editable": false,
    "nbgrader": {
     "checksum": "03ada472acbb66e75ee00d892d4f50fd",
     "grade": false,
     "grade_id": "cell-363353e06bdfce17",
     "locked": true,
     "schema_version": 1,
     "solution": false
    }
   },
   "source": [
    "### Constructing restaurant-user matrix:\n",
    "\n",
    "The first thing is to transform the user-restaurant ratings into a matrix. Each row vector represent the ratings of one restaurant and each dimension of the row vector (aka. a column) represents a user. Therefore, the $j$-th dimension of the $i$-th row vector represents the rating of user $j$ on the restaurant $i$. We can perform pivoting on the `review_df` dataframe to generate such a matrix, and then view the first few row vectors."
   ]
  },
  {
   "cell_type": "code",
   "execution_count": null,
   "metadata": {
    "deletable": false,
    "editable": false,
    "nbgrader": {
     "checksum": "aa03ff3e2c56a303e79145ffd6309927",
     "grade": false,
     "grade_id": "cell-464593daa6cc2057",
     "locked": true,
     "schema_version": 1,
     "solution": false
    }
   },
   "outputs": [],
   "source": [
    "rating_df = review_df.pivot_table(index=['business_id'], columns=['user_id'], values='stars')\n",
    "rating_df.head(5)"
   ]
  },
  {
   "cell_type": "markdown",
   "metadata": {
    "deletable": false,
    "editable": false,
    "nbgrader": {
     "checksum": "d4d1ff37469e661608ec971dd42f8012",
     "grade": false,
     "grade_id": "cell-0d8f40007c0ad009",
     "locked": true,
     "schema_version": 1,
     "solution": false
    }
   },
   "source": [
    "However, directly using this matrix in production might not be a good practice. The matrix can be huge in size and yet very very sparse, as not every user has rated every restaurant. In other words, most of the cells of the matrix have missing values (NaN).\n",
    "\n",
    "Let's briefly examine how sparse the matrix is."
   ]
  },
  {
   "cell_type": "code",
   "execution_count": null,
   "metadata": {
    "deletable": false,
    "editable": false,
    "nbgrader": {
     "checksum": "db7eab1de72edc2cdc6c4daf5810550f",
     "grade": false,
     "grade_id": "cell-37c3f5d51f496c19",
     "locked": true,
     "schema_version": 1,
     "solution": false
    }
   },
   "outputs": [],
   "source": [
    "n_entry = review_df.shape[0]\n",
    "n_business = review_df.business_id.unique().size\n",
    "n_user = review_df.user_id.unique().size\n",
    "print(\"total entry:\", n_entry)\n",
    "print(\"# business:\", n_business)\n",
    "print(\"# user:\", n_user)\n",
    "print(f\"density:{n_entry / (n_business * n_user):.4f}\")"
   ]
  },
  {
   "cell_type": "markdown",
   "metadata": {
    "deletable": false,
    "editable": false,
    "nbgrader": {
     "checksum": "bb05fc317d0eedceb279fd40c8bb1200",
     "grade": false,
     "grade_id": "cell-27bf140850c1b55c",
     "locked": true,
     "schema_version": 1,
     "solution": false
    }
   },
   "source": [
    "Before any analysis, we also need to perform sanity checks. For matrix data, the first thing we always do is the check the dimensionality. "
   ]
  },
  {
   "cell_type": "markdown",
   "metadata": {},
   "source": [
    "### Exercise 1. Check the dimensionality (5 pts)\n",
    "Complete the `row_col_count` function below to return the numbers of rows and columns of the rating matrix."
   ]
  },
  {
   "cell_type": "code",
   "execution_count": null,
   "metadata": {
    "deletable": false,
    "nbgrader": {
     "checksum": "cedd06a16b530c7b1102141fe9528d27",
     "grade": false,
     "grade_id": "cell-d6df8a4b37fbca50",
     "locked": false,
     "schema_version": 1,
     "solution": true
    }
   },
   "outputs": [],
   "source": [
    "def row_col_count(rating_df):\n",
    "    # YOUR CODE HERE\n",
    "    raise NotImplementedError()\n",
    "    return n_row, n_col"
   ]
  },
  {
   "cell_type": "code",
   "execution_count": null,
   "metadata": {
    "deletable": false,
    "editable": false,
    "nbgrader": {
     "checksum": "bbea6f4aa8aad0bdd45faeaa8842614b",
     "grade": true,
     "grade_id": "cell-beafba494c427440",
     "locked": true,
     "points": 5,
     "schema_version": 1,
     "solution": false
    }
   },
   "outputs": [],
   "source": [
    "n_row, n_col = row_col_count(rating_df)\n",
    "assert n_row == 2770\n",
    "assert n_col == 11937"
   ]
  },
  {
   "cell_type": "code",
   "execution_count": null,
   "metadata": {
    "deletable": false,
    "editable": false,
    "nbgrader": {
     "checksum": "b5984cf68fb27d7e638d60dcd0eef85b",
     "grade": false,
     "grade_id": "cell-ba76590fc91af9e3",
     "locked": true,
     "schema_version": 1,
     "solution": false
    }
   },
   "outputs": [],
   "source": [
    "rating_df.shape"
   ]
  },
  {
   "cell_type": "markdown",
   "metadata": {
    "deletable": false,
    "editable": false,
    "nbgrader": {
     "checksum": "65126a5e08dcbedf0b16b5de415abfd4",
     "grade": false,
     "grade_id": "cell-fb9cce8bd7b4840c",
     "locked": true,
     "schema_version": 1,
     "solution": false
    }
   },
   "source": [
    "Comparing the numbers with the earlier cells, we have 2779 businesses in review_df, but we only have 2770 rows in rating_df. What happened?  Let's further examine the difference."
   ]
  },
  {
   "cell_type": "code",
   "execution_count": null,
   "metadata": {
    "deletable": false,
    "editable": false,
    "nbgrader": {
     "checksum": "db5f23a979c179c4df0f15a694ddafdb",
     "grade": false,
     "grade_id": "cell-8b3e9cc29e868eb5",
     "locked": true,
     "schema_version": 1,
     "solution": false
    }
   },
   "outputs": [],
   "source": [
    "set(business_df.index) - set(rating_df.index)"
   ]
  },
  {
   "cell_type": "markdown",
   "metadata": {
    "deletable": false,
    "editable": false,
    "nbgrader": {
     "checksum": "46d2e405f31b69ad7ccc2bac625d3165",
     "grade": false,
     "grade_id": "cell-1ec8d8190bd4b341",
     "locked": true,
     "schema_version": 1,
     "solution": false
    }
   },
   "source": [
    "We see that difference of 9, (2779 - 2770), comes solely from 9 businesses missing in the `rating_df`. Do they exist in `review_df`?"
   ]
  },
  {
   "cell_type": "code",
   "execution_count": null,
   "metadata": {
    "deletable": false,
    "editable": false,
    "nbgrader": {
     "checksum": "0befb34c49731dffcd2f8f293f155850",
     "grade": false,
     "grade_id": "cell-d5855d127a3e8344",
     "locked": true,
     "schema_version": 1,
     "solution": false
    }
   },
   "outputs": [],
   "source": [
    "missing_business_id = set(business_df.index) - set(rating_df.index)\n",
    "review_df[review_df.business_id.isin(missing_business_id)]"
   ]
  },
  {
   "cell_type": "markdown",
   "metadata": {
    "deletable": false,
    "editable": false,
    "nbgrader": {
     "checksum": "ec5e61bb6f977e126fef206caac1f1a4",
     "grade": false,
     "grade_id": "cell-f5463db98d12f6c3",
     "locked": true,
     "schema_version": 1,
     "solution": false
    }
   },
   "source": [
    "It is now clear that the 9 missing businesses do not have any valid entries in the `review_df`, so they do not have corresponding rows in `rating_df` after pivoting. To be consistent, we could create 9 additional rows in `rating_df` with all NaN values. Or, we can simply remove the businesses from `business_df` to make the two dataframes coherent."
   ]
  },
  {
   "cell_type": "code",
   "execution_count": null,
   "metadata": {
    "deletable": false,
    "editable": false,
    "nbgrader": {
     "checksum": "bcf347f5824cd85c78a2b6e053385f4f",
     "grade": false,
     "grade_id": "cell-9d0c5c205e5a5b42",
     "locked": true,
     "schema_version": 1,
     "solution": false
    }
   },
   "outputs": [],
   "source": [
    "business_df.drop(missing_business_id, inplace=True)"
   ]
  },
  {
   "cell_type": "markdown",
   "metadata": {
    "deletable": false,
    "editable": false,
    "nbgrader": {
     "checksum": "35f1a7ec0c9e6f7936bf3fd08bb0a3ee",
     "grade": false,
     "grade_id": "cell-6b736378d858cb31",
     "locked": true,
     "schema_version": 1,
     "solution": false
    }
   },
   "source": [
    "There are several ways of dealing with missing values in a matrix (the NaN cells in the pivoted dataframe). For now, let's simply fill the NaN cells with 0. This may not be a good practice in reality. Not only will we be dealing with a much larger (denser) dataset, which requires a lot more computing resources, but more importantly, we are implicitly making an assumption that the users are rating those restaurants with 0 star. Do they really dislike those restaurant or have they not been to them?  Can you think of a more reasonable method to fill in NAs?"
   ]
  },
  {
   "cell_type": "code",
   "execution_count": null,
   "metadata": {
    "deletable": false,
    "editable": false,
    "nbgrader": {
     "checksum": "687bbaa0ec33977606f43c21dc4c459b",
     "grade": false,
     "grade_id": "cell-668237a2674b5896",
     "locked": true,
     "schema_version": 1,
     "solution": false
    }
   },
   "outputs": [],
   "source": [
    "rating_df.fillna(0, inplace=True)\n",
    "rating_df.head(5)"
   ]
  },
  {
   "cell_type": "markdown",
   "metadata": {
    "deletable": false,
    "editable": false,
    "nbgrader": {
     "checksum": "3d166e6bd8a6d3e43a1284fdf59a20a9",
     "grade": false,
     "grade_id": "cell-bcc85057c73777b0",
     "locked": true,
     "schema_version": 1,
     "solution": false
    }
   },
   "source": [
    "Now we should obtain a restaurant x user matrix fully filled with ratings. This concludes the first part of the assignment."
   ]
  }
 ],
 "metadata": {
  "coursera": {
   "schema_names": [
    "mads_data_mining_i_v2_assignment3_part1"
   ]
  },
  "kernelspec": {
   "display_name": "Python 3",
   "language": "python",
   "name": "python3"
  },
  "language_info": {
   "codemirror_mode": {
    "name": "ipython",
    "version": 3
   },
   "file_extension": ".py",
   "mimetype": "text/x-python",
   "name": "python",
   "nbconvert_exporter": "python",
   "pygments_lexer": "ipython3",
   "version": "3.7.3"
  }
 },
 "nbformat": 4,
 "nbformat_minor": 2
}
